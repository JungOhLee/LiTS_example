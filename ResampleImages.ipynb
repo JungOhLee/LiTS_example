{
  "cells": [
    {
      "cell_type": "code",
      "source": [
        "from google.colab import drive\n",
        "drive.mount('/gdrive')"
      ],
      "metadata": {
        "id": "MQkum7wOUmVL",
        "outputId": "000f8687-bf1f-4969-b688-fdca9a2a999e",
        "colab": {
          "base_uri": "https://localhost:8080/"
        }
      },
      "execution_count": 26,
      "outputs": [
        {
          "output_type": "stream",
          "name": "stdout",
          "text": [
            "Drive already mounted at /gdrive; to attempt to forcibly remount, call drive.mount(\"/gdrive\", force_remount=True).\n"
          ]
        }
      ]
    },
    {
      "cell_type": "code",
      "execution_count": 27,
      "metadata": {
        "colab": {
          "base_uri": "https://localhost:8080/"
        },
        "id": "o5cCOuc-AZ06",
        "outputId": "6ac72237-403b-4943-c6f2-9f943512a033",
        "scrolled": false
      },
      "outputs": [
        {
          "output_type": "stream",
          "name": "stdout",
          "text": [
            "Looking in indexes: https://pypi.org/simple, https://us-python.pkg.dev/colab-wheels/public/simple/\n",
            "Requirement already satisfied: monai in /usr/local/lib/python3.8/dist-packages (1.1.0)\n",
            "Requirement already satisfied: torch>=1.8 in /usr/local/lib/python3.8/dist-packages (from monai) (1.13.1+cu116)\n",
            "Requirement already satisfied: numpy>=1.17 in /usr/local/lib/python3.8/dist-packages (from monai) (1.21.6)\n",
            "Requirement already satisfied: typing-extensions in /usr/local/lib/python3.8/dist-packages (from torch>=1.8->monai) (4.4.0)\n",
            "Looking in indexes: https://pypi.org/simple, https://us-python.pkg.dev/colab-wheels/public/simple/\n",
            "Requirement already satisfied: nibabel in /usr/local/lib/python3.8/dist-packages (3.0.2)\n",
            "Requirement already satisfied: numpy>=1.12 in /usr/local/lib/python3.8/dist-packages (from nibabel) (1.21.6)\n",
            "Looking in indexes: https://pypi.org/simple, https://us-python.pkg.dev/colab-wheels/public/simple/\n",
            "Requirement already satisfied: SimpleITK in /usr/local/lib/python3.8/dist-packages (2.2.1)\n"
          ]
        }
      ],
      "source": [
        "!pip install monai\n",
        "!pip install nibabel\n",
        "!pip install SimpleITK"
      ]
    },
    {
      "cell_type": "code",
      "execution_count": 28,
      "metadata": {
        "id": "3bueKckSvS9t"
      },
      "outputs": [],
      "source": [
        "import os\n",
        "import numpy as np\n",
        "import glob\n",
        "import matplotlib.pyplot as plt\n",
        "import nibabel as nib\n",
        "from monai.transforms import Spacing\n",
        "from monai.transforms import SpatialPad\n",
        "from monai.transforms import Resize\n",
        "from monai.transforms import CropForeground\n",
        "\n",
        "import time\n",
        "import torch"
      ]
    },
    {
      "cell_type": "code",
      "execution_count": 29,
      "metadata": {
        "id": "R-pbV0BnULL-",
        "outputId": "c08ccaa7-aac0-4653-de18-e9aee753062c",
        "colab": {
          "base_uri": "https://localhost:8080/"
        }
      },
      "outputs": [
        {
          "output_type": "stream",
          "name": "stdout",
          "text": [
            "/content\n"
          ]
        }
      ],
      "source": [
        "!pwd"
      ]
    },
    {
      "cell_type": "code",
      "execution_count": 30,
      "metadata": {
        "colab": {
          "base_uri": "https://localhost:8080/"
        },
        "id": "bpDy7SMqq2n2",
        "outputId": "768ede4d-6667-481e-8013-175b63d55696"
      },
      "outputs": [
        {
          "output_type": "execute_result",
          "data": {
            "text/plain": [
              "2"
            ]
          },
          "metadata": {},
          "execution_count": 30
        }
      ],
      "source": [
        "os.cpu_count()"
      ]
    },
    {
      "cell_type": "markdown",
      "metadata": {
        "id": "k17jNW1NULL-"
      },
      "source": [
        "# Load Image and Label"
      ]
    },
    {
      "cell_type": "code",
      "source": [
        "!ls /gdrive/MyDrive/LiTS_sample"
      ],
      "metadata": {
        "id": "1kJx9v7zVnNv",
        "outputId": "7410d469-843c-426e-df02-c313f4ccfeb5",
        "colab": {
          "base_uri": "https://localhost:8080/"
        }
      },
      "execution_count": 31,
      "outputs": [
        {
          "output_type": "stream",
          "name": "stdout",
          "text": [
            "archive.zip  image  image_128  mask  mask_128\n"
          ]
        }
      ]
    },
    {
      "cell_type": "markdown",
      "metadata": {
        "id": "KgEaci8eULMB"
      },
      "source": [
        "## Resample all same size"
      ]
    },
    {
      "cell_type": "code",
      "execution_count": 32,
      "metadata": {
        "scrolled": true,
        "id": "hO0nDIcWULMB",
        "outputId": "2faec6e4-971f-4d0a-bf1b-17a644ff87aa",
        "colab": {
          "base_uri": "https://localhost:8080/"
        }
      },
      "outputs": [
        {
          "output_type": "stream",
          "name": "stdout",
          "text": [
            "sample_data\n"
          ]
        }
      ],
      "source": [
        "!ls $image_data_dir"
      ]
    },
    {
      "cell_type": "code",
      "execution_count": 33,
      "metadata": {
        "id": "3L2hQmqzULMB"
      },
      "outputs": [],
      "source": [
        "from multiprocessing import Pool\n",
        "\n",
        "class Resampler:\n",
        "    def __init__(self, origin_dir, target_dir, resample_size, is_label=False):\n",
        "        self.origin_dir, self.target_dir, self.resample_size, self.is_label = origin_dir, target_dir, resample_size, is_label\n",
        "\n",
        "    def save_np(self, np_image, target_dir, file_name):\n",
        "        if self.is_label:\n",
        "            np_image = (np_image>0.5).astype(np.uint8)            \n",
        "        else:\n",
        "            np_image = np_image.astype(np.int16)\n",
        "        np.save(os.path.join(target_dir, file_name), np_image)\n",
        "\n",
        "    def resize(self, np_image): \n",
        "        if self.is_label:\n",
        "            np_image = np_image > 0.5\n",
        "        resizer = Resize(self.resample_size)\n",
        "        resized_image = resizer(np_image[np.newaxis,:]) # with channel\n",
        "        return resized_image[0] # without channel\n",
        "\n",
        "    def resample(self, file, origin_dir, target_dir, resample_func, save_func):\n",
        "        # # load npy\n",
        "        # np_file = np.load(os.path.join(origin_dir, file))\n",
        "        # load nifti\n",
        "        np_file = nib.load(os.path.join(origin_dir, file)).get_fdata()\n",
        "        resampled_image = resample_func(np_file)\n",
        "        save_func(resampled_image, target_dir, file)\n",
        "\n",
        "    def wrapper(self, args):\n",
        "        return self.resample(*args)\n",
        "\n",
        "    def resample_all(self):\n",
        "        os.makedirs(self.target_dir, exist_ok=True)\n",
        "\n",
        "        t = time.perf_counter()\n",
        "\n",
        "        file_list = os.listdir(self.origin_dir)\n",
        "        arg_list = [(file, self.origin_dir, self.target_dir, self.resize, self.save_np) for file in file_list]\n",
        "        pool = Pool(processes=32)\n",
        "        pool.map(self.wrapper, arg_list)\n",
        "        pool.close()\n",
        "        pool.join()\n",
        "\n",
        "        elapsed_time = time.perf_counter() - t\n",
        "\n",
        "        print(f'''\n",
        "        consumed_time: {elapsed_time}s\n",
        "        ''')\n",
        "\n",
        "class MultiChResampler:\n",
        "    def __init__(self, origin_dir, target_dir, resample_size, is_label=False):\n",
        "        self.origin_dir, self.target_dir, self.resample_size, self.is_label = origin_dir, target_dir, resample_size, is_label\n",
        "\n",
        "    def save_np(self, np_image, target_dir, file_name):\n",
        "        if self.is_label:\n",
        "            np_image = np_image.astype(np.uint8)            \n",
        "        else:\n",
        "            np_image = np_image.astype(np.int16)\n",
        "        \n",
        "        # For torch order\n",
        "        np_image = np.flip(np_image.transpose([2,1,0]), axis=(1,2))\n",
        "        np.save(os.path.join(target_dir, file_name), np_image) \n",
        "\n",
        "    def resize(self, np_image): \n",
        "        if self.is_label:\n",
        "            resizer = Resize(self.resample_size, mode='nearest')\n",
        "        else: \n",
        "            resizer = Resize(self.resample_size)\n",
        "        resized_image = resizer(np_image[np.newaxis,:]) # with channel\n",
        "        return resized_image[0] # without channel\n",
        "\n",
        "    def resample(self, file, origin_dir, target_dir, resample_func, save_func):\n",
        "        # # load npy\n",
        "        # np_file = np.load(os.path.join(origin_dir, file))\n",
        "        # load nifti\n",
        "        np_file = nib.load(os.path.join(origin_dir, file)).get_fdata()\n",
        "        resampled_image = resample_func(np_file)\n",
        "        save_func(resampled_image, target_dir, file)\n",
        "\n",
        "    def wrapper(self, args):\n",
        "        return self.resample(*args)\n",
        "\n",
        "    def resample_all(self):\n",
        "        os.makedirs(self.target_dir, exist_ok=True)\n",
        "\n",
        "        t = time.perf_counter()\n",
        "\n",
        "        file_list = os.listdir(self.origin_dir)\n",
        "        arg_list = [(file, self.origin_dir, self.target_dir, self.resize, self.save_np) for file in file_list]\n",
        "        pool = Pool(processes=os.cpu_count())\n",
        "        pool.map(self.wrapper, arg_list)\n",
        "        pool.close()\n",
        "        pool.join()\n",
        "\n",
        "        elapsed_time = time.perf_counter() - t\n",
        "\n",
        "        print(f'''\n",
        "        consumed_time: {elapsed_time}s\n",
        "        ''')"
      ]
    },
    {
      "cell_type": "code",
      "execution_count": 34,
      "metadata": {
        "id": "yzh0d1qUULMB"
      },
      "outputs": [],
      "source": [
        "source_dir = '/gdrive/MyDrive/LiTS_sample/image'\n",
        "target_dir = '/gdrive/MyDrive/LiTS_sample/image_128'\n",
        "\n",
        "source_dir_lb = '/gdrive/MyDrive/LiTS_sample/mask'\n",
        "target_dir_lb = '/gdrive/MyDrive/LiTS_sample/mask_128'\n",
        "\n",
        "target_shape = [128,128,128]\n",
        "\n",
        "image_resampler = MultiChResampler(source_dir, target_dir, target_shape)\n",
        "label_resampler_1 = MultiChResampler(source_dir_lb, target_dir_lb, target_shape, True)"
      ]
    },
    {
      "cell_type": "code",
      "source": [
        "image_resampler.resample_all()"
      ],
      "metadata": {
        "id": "IvpO0lN3ktNK",
        "outputId": "f8166983-9692-468c-ff40-ac850faaeaa8",
        "colab": {
          "base_uri": "https://localhost:8080/"
        }
      },
      "execution_count": 35,
      "outputs": [
        {
          "output_type": "stream",
          "name": "stdout",
          "text": [
            "\n",
            "        consumed_time: 343.88992797100036s\n",
            "        \n"
          ]
        }
      ]
    },
    {
      "cell_type": "code",
      "source": [
        "label_resampler_1.resample_all()"
      ],
      "metadata": {
        "colab": {
          "base_uri": "https://localhost:8080/"
        },
        "id": "CnyMOBtzxFFl",
        "outputId": "a1816272-66a9-4b34-8980-6267b0803f26"
      },
      "execution_count": null,
      "outputs": [
        {
          "output_type": "stream",
          "name": "stdout",
          "text": [
            "\n",
            "        consumed_time: 305.358029944s\n",
            "        \n"
          ]
        }
      ]
    },
    {
      "cell_type": "code",
      "source": [
        "file_names = os.listdir(target_dir)\n",
        "new_file_names = [file_name.split('.')[0] + '.npy' for file_name in file_names]"
      ],
      "metadata": {
        "id": "ch4q4cm40ZEl"
      },
      "execution_count": 36,
      "outputs": []
    },
    {
      "cell_type": "code",
      "source": [
        "for (old_file, new_file) in zip(file_names, new_file_names): \n",
        "  old_path = os.path.join(target_dir, old_file)\n",
        "  new_path = os.path.join(target_dir, new_file)\n",
        "  os.rename(old_path, new_path)"
      ],
      "metadata": {
        "id": "XSJH9VeR0vJS"
      },
      "execution_count": 37,
      "outputs": []
    },
    {
      "cell_type": "code",
      "source": [
        "print(len(os.listdir(target_dir)))\n",
        "os.listdir(target_dir)[:3]"
      ],
      "metadata": {
        "id": "9BrTuOit1u9r",
        "outputId": "3cdf397d-fd65-4390-eccc-23726df2ad18",
        "colab": {
          "base_uri": "https://localhost:8080/"
        }
      },
      "execution_count": 38,
      "outputs": [
        {
          "output_type": "stream",
          "name": "stdout",
          "text": [
            "51\n"
          ]
        },
        {
          "output_type": "execute_result",
          "data": {
            "text/plain": [
              "['volume-0.npy', 'volume-1.npy', 'volume-6.npy']"
            ]
          },
          "metadata": {},
          "execution_count": 38
        }
      ]
    },
    {
      "cell_type": "code",
      "source": [
        "os.listdir(target_dir_lb)[:3]"
      ],
      "metadata": {
        "id": "-wfwwQ8E1zrk",
        "outputId": "c267e894-ee1d-4ccd-d4f6-7a9acc46d462",
        "colab": {
          "base_uri": "https://localhost:8080/"
        }
      },
      "execution_count": null,
      "outputs": [
        {
          "output_type": "execute_result",
          "data": {
            "text/plain": [
              "['segmentation-0.nii.npy', 'segmentation-1.nii.npy', 'segmentation-15.nii.npy']"
            ]
          },
          "metadata": {},
          "execution_count": 21
        }
      ]
    },
    {
      "cell_type": "code",
      "source": [
        "for i in range(51):\n",
        "  old_file = f\"segmentation-{i}.nii.npy\"\n",
        "  old_path = os.path.join(target_dir_lb, old_file)\n",
        "  new_file = f\"volume-{i}.npy\"\n",
        "  new_path = os.path.join(target_dir_lb, new_file)\n",
        "  os.rename(old_path, new_path)"
      ],
      "metadata": {
        "id": "TxBdLv8u19Vh"
      },
      "execution_count": null,
      "outputs": []
    },
    {
      "cell_type": "code",
      "execution_count": null,
      "metadata": {
        "id": "IhWR2dNUULMB"
      },
      "outputs": [],
      "source": [
        "file_names = os.listdir(target_dir)\n",
        "image_sizes = [np.load(os.path.join(target_dir, file)).shape for file in file_names]\n",
        "label_sizes = [np.load(os.path.join(target_dir_lb, file)).shape for file in file_names]"
      ]
    },
    {
      "cell_type": "code",
      "execution_count": null,
      "metadata": {
        "id": "O6pujEpXULMB",
        "colab": {
          "base_uri": "https://localhost:8080/"
        },
        "outputId": "470ce86d-241e-41dc-dbff-8f7adcec4593"
      },
      "outputs": [
        {
          "output_type": "execute_result",
          "data": {
            "text/plain": [
              "[(128, 128, 128),\n",
              " (128, 128, 128),\n",
              " (128, 128, 128),\n",
              " (128, 128, 128),\n",
              " (128, 128, 128),\n",
              " (128, 128, 128),\n",
              " (128, 128, 128),\n",
              " (128, 128, 128),\n",
              " (128, 128, 128),\n",
              " (128, 128, 128),\n",
              " (128, 128, 128),\n",
              " (128, 128, 128),\n",
              " (128, 128, 128),\n",
              " (128, 128, 128),\n",
              " (128, 128, 128),\n",
              " (128, 128, 128),\n",
              " (128, 128, 128),\n",
              " (128, 128, 128),\n",
              " (128, 128, 128),\n",
              " (128, 128, 128),\n",
              " (128, 128, 128),\n",
              " (128, 128, 128),\n",
              " (128, 128, 128),\n",
              " (128, 128, 128),\n",
              " (128, 128, 128),\n",
              " (128, 128, 128),\n",
              " (128, 128, 128),\n",
              " (128, 128, 128),\n",
              " (128, 128, 128),\n",
              " (128, 128, 128),\n",
              " (128, 128, 128),\n",
              " (128, 128, 128),\n",
              " (128, 128, 128),\n",
              " (128, 128, 128),\n",
              " (128, 128, 128),\n",
              " (128, 128, 128),\n",
              " (128, 128, 128),\n",
              " (128, 128, 128),\n",
              " (128, 128, 128),\n",
              " (128, 128, 128),\n",
              " (128, 128, 128),\n",
              " (128, 128, 128),\n",
              " (128, 128, 128),\n",
              " (128, 128, 128),\n",
              " (128, 128, 128),\n",
              " (128, 128, 128),\n",
              " (128, 128, 128),\n",
              " (128, 128, 128)]"
            ]
          },
          "metadata": {},
          "execution_count": 25
        }
      ],
      "source": [
        "label_sizes"
      ]
    },
    {
      "cell_type": "markdown",
      "metadata": {
        "id": "97E1An-dULMC"
      },
      "source": [
        "# Test Codes\n",
        "\n",
        "## Testing One Case"
      ]
    },
    {
      "cell_type": "code",
      "execution_count": null,
      "metadata": {
        "id": "S3wE9SoJULMC"
      },
      "outputs": [],
      "source": [
        "img = np.load(get_image_path('000251_20190703_chest.npy'))"
      ]
    },
    {
      "cell_type": "code",
      "execution_count": null,
      "metadata": {
        "id": "o1r4lS3cULMC"
      },
      "outputs": [],
      "source": [
        "cropper = CropForeground()"
      ]
    },
    {
      "cell_type": "code",
      "execution_count": null,
      "metadata": {
        "id": "x9AK5GO1ULMC",
        "outputId": "251685c6-ec89-4059-e986-a447beb954ea"
      },
      "outputs": [
        {
          "data": {
            "text/plain": [
              "(array([ 0, 58,  0]), array([297, 512, 512]))"
            ]
          },
          "execution_count": 78,
          "metadata": {},
          "output_type": "execute_result"
        }
      ],
      "source": [
        "cropper.compute_bounding_box(img[np.newaxis,:])"
      ]
    },
    {
      "cell_type": "code",
      "execution_count": null,
      "metadata": {
        "id": "99qsp3sGULMC",
        "outputId": "cc8dd425-1b48-47f3-8465-ca505065350c"
      },
      "outputs": [
        {
          "data": {
            "text/plain": [
              "(297, 454, 512)"
            ]
          },
          "execution_count": 79,
          "metadata": {},
          "output_type": "execute_result"
        }
      ],
      "source": [
        "cropper(img).shape"
      ]
    },
    {
      "cell_type": "code",
      "execution_count": null,
      "metadata": {
        "id": "vp9xK5EtULMC"
      },
      "outputs": [],
      "source": [
        "import time"
      ]
    },
    {
      "cell_type": "code",
      "execution_count": null,
      "metadata": {
        "id": "wHa7-TTmULMC",
        "outputId": "3dd95d46-80b0-4547-f35d-e61ffb14b065"
      },
      "outputs": [
        {
          "name": "stdout",
          "output_type": "stream",
          "text": [
            "\n",
            "consumed_time: 1.6059333749872167s\n",
            "\n"
          ]
        }
      ],
      "source": [
        "t = time.perf_counter()\n",
        "\n",
        "resampled_image = resample_all_1mm(img, ct_info.resolution[0])\n",
        "\n",
        "elapsed_time = time.perf_counter() - t\n",
        "\n",
        "print(f'''\n",
        "consumed_time: {elapsed_time}s\n",
        "''')"
      ]
    },
    {
      "cell_type": "code",
      "execution_count": null,
      "metadata": {
        "id": "XrnGVhTbULMC",
        "outputId": "e95ccece-3262-4a82-897e-1339fd67fd44"
      },
      "outputs": [
        {
          "data": {
            "text/plain": [
              "(297, 512, 512)"
            ]
          },
          "execution_count": 53,
          "metadata": {},
          "output_type": "execute_result"
        }
      ],
      "source": [
        "img.shape"
      ]
    },
    {
      "cell_type": "code",
      "execution_count": null,
      "metadata": {
        "id": "7Ihy3QrXULMC",
        "outputId": "e583cc80-932e-4486-edb5-ecda7b88a10b"
      },
      "outputs": [
        {
          "data": {
            "text/plain": [
              "(297, 287, 287)"
            ]
          },
          "execution_count": 54,
          "metadata": {},
          "output_type": "execute_result"
        }
      ],
      "source": [
        "resampled_image.shape"
      ]
    },
    {
      "cell_type": "code",
      "execution_count": null,
      "metadata": {
        "id": "em19sB-wULMC"
      },
      "outputs": [],
      "source": [
        "label = np.load(get_label_path('000251_20190703_chest.npy'))"
      ]
    },
    {
      "cell_type": "code",
      "execution_count": null,
      "metadata": {
        "id": "ipFm_uxAULMC"
      },
      "outputs": [],
      "source": [
        "resampled_label = resample_all_1mm(label, ct_info.resolution[0])"
      ]
    },
    {
      "cell_type": "code",
      "execution_count": null,
      "metadata": {
        "id": "GC49QzW0ULMC",
        "outputId": "bad4e8ae-646e-4684-886a-549ef0e0d376"
      },
      "outputs": [
        {
          "data": {
            "text/plain": [
              "0"
            ]
          },
          "execution_count": 77,
          "metadata": {},
          "output_type": "execute_result"
        }
      ],
      "source": [
        "adjust_window(resampled_image, [700,100]).astype(np.int32).min()"
      ]
    },
    {
      "cell_type": "code",
      "execution_count": null,
      "metadata": {
        "scrolled": false,
        "id": "NlGDgtrcULMC"
      },
      "outputs": [],
      "source": [
        "plot_image_and_label(adjust_window(resampled_image, [700,100]).astype(np.int32), (resampled_label>0).astype(np.uint8))"
      ]
    },
    {
      "cell_type": "code",
      "execution_count": null,
      "metadata": {
        "id": "9eo_e-xDULMC"
      },
      "outputs": [],
      "source": [
        "from monai.transforms import Rand3DElastic\n",
        "sample_np_image = dcm_to_numpy(cases[0], dcm_base_dir) # npy 로 변환한 3D 이미지 하나 입니다\n",
        "sample_label = np.load('/workspace/BoneMeta_new/labels/{}.npy'.format(cases[0]))\n",
        "elastic_deform = Rand3DElastic(sigma_range=(35,35), magnitude_range=(10,10), prob=1.0, rotate_range=0, shear_range=0)\n",
        "deformed_image = elastic_deform(sample_np_image)\n"
      ]
    },
    {
      "cell_type": "markdown",
      "metadata": {
        "id": "wcj_jDSmULMC"
      },
      "source": [
        "## Testing All Sizes"
      ]
    },
    {
      "cell_type": "code",
      "execution_count": null,
      "metadata": {
        "id": "Xjx0HcPsULMC"
      },
      "outputs": [],
      "source": [
        "file_names = os.listdir(all_1mm_image_dir)"
      ]
    },
    {
      "cell_type": "code",
      "execution_count": null,
      "metadata": {
        "id": "IYilx5O-ULMC"
      },
      "outputs": [],
      "source": [
        "image_sizes = [np.load(os.path.join(all_1mm_image_dir, file)).shape for file in file_names]\n",
        "label_sizes = [np.load(os.path.join(all_1mm_label_dir, file)).shape for file in file_names]"
      ]
    },
    {
      "cell_type": "code",
      "execution_count": null,
      "metadata": {
        "id": "O-18fX8iULMC",
        "outputId": "4c065267-580c-40b8-c306-25ac27a85da0"
      },
      "outputs": [
        {
          "data": {
            "text/plain": [
              "True"
            ]
          },
          "execution_count": 116,
          "metadata": {},
          "output_type": "execute_result"
        }
      ],
      "source": [
        "image_sizes == label_sizes"
      ]
    },
    {
      "cell_type": "code",
      "execution_count": null,
      "metadata": {
        "id": "F2HuQa2GULMC"
      },
      "outputs": [],
      "source": [
        "plot_image_and_label(np.load(os.path.join(all_1mm_image_dir, file_names[5])), np.load(os.path.join(all_1mm_label_dir, file_names[5])))"
      ]
    },
    {
      "cell_type": "code",
      "execution_count": null,
      "metadata": {
        "id": "P_VspgCmULMD"
      },
      "outputs": [],
      "source": []
    }
  ],
  "metadata": {
    "colab": {
      "collapsed_sections": [
        "TzNPrUS4_fm0",
        "cTCM0A09AzDn",
        "yNWBAqePCwZ0"
      ],
      "name": "CropAndPaste.ipynb",
      "provenance": []
    },
    "kernelspec": {
      "display_name": "Python 3 (ipykernel)",
      "language": "python",
      "name": "python3"
    },
    "language_info": {
      "codemirror_mode": {
        "name": "ipython",
        "version": 3
      },
      "file_extension": ".py",
      "mimetype": "text/x-python",
      "name": "python",
      "nbconvert_exporter": "python",
      "pygments_lexer": "ipython3",
      "version": "3.9.5"
    }
  },
  "nbformat": 4,
  "nbformat_minor": 0
}