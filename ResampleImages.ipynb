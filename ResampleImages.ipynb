{
 "cells": [
  {
   "cell_type": "code",
   "execution_count": 1,
   "metadata": {
    "colab": {
     "base_uri": "https://localhost:8080/"
    },
    "executionInfo": {
     "elapsed": 10281,
     "status": "ok",
     "timestamp": 1627946100742,
     "user": {
      "displayName": "이정오",
      "photoUrl": "",
      "userId": "04886549528950007370"
     },
     "user_tz": -540
    },
    "id": "o5cCOuc-AZ06",
    "outputId": "ae22fec6-b357-4e02-ad6d-ec2d5e9e849b",
    "scrolled": false
   },
   "outputs": [],
   "source": [
    "# !pip install monai\n",
    "# !pip install nibabel"
   ]
  },
  {
   "cell_type": "code",
   "execution_count": 1,
   "metadata": {
    "executionInfo": {
     "elapsed": 8,
     "status": "ok",
     "timestamp": 1627946100743,
     "user": {
      "displayName": "이정오",
      "photoUrl": "",
      "userId": "04886549528950007370"
     },
     "user_tz": -540
    },
    "id": "3bueKckSvS9t"
   },
   "outputs": [],
   "source": [
    "import os\n",
    "import SimpleITK as sitk\n",
    "import numpy as np\n",
    "import glob\n",
    "import matplotlib.pyplot as plt\n",
    "import pandas as pd\n",
    "\n",
    "import nibabel\n",
    "from monai.transforms import Spacing\n",
    "from monai.transforms import SpatialPad\n",
    "from monai.transforms import Resize\n",
    "from monai.transforms import CropForeground\n",
    "\n",
    "import time\n",
    "import torch"
   ]
  },
  {
   "cell_type": "code",
   "execution_count": 2,
   "metadata": {},
   "outputs": [
    {
     "name": "stdout",
     "output_type": "stream",
     "text": [
      "/workspace/jo_nb/Preprocessing\r\n"
     ]
    }
   ],
   "source": [
    "!pwd"
   ]
  },
  {
   "cell_type": "code",
   "execution_count": 3,
   "metadata": {},
   "outputs": [
    {
     "ename": "ModuleNotFoundError",
     "evalue": "No module named 'utils'",
     "output_type": "error",
     "traceback": [
      "\u001b[0;31m---------------------------------------------------------------------------\u001b[0m",
      "\u001b[0;31mModuleNotFoundError\u001b[0m                       Traceback (most recent call last)",
      "Input \u001b[0;32mIn [3]\u001b[0m, in \u001b[0;36m<cell line: 3>\u001b[0;34m()\u001b[0m\n\u001b[1;32m      1\u001b[0m \u001b[38;5;28;01mimport\u001b[39;00m \u001b[38;5;21;01msys\u001b[39;00m\n\u001b[1;32m      2\u001b[0m sys\u001b[38;5;241m.\u001b[39mpath\u001b[38;5;241m.\u001b[39minsert(\u001b[38;5;241m1\u001b[39m, \u001b[38;5;124m'\u001b[39m\u001b[38;5;124m/workspace\u001b[39m\u001b[38;5;124m'\u001b[39m)\n\u001b[0;32m----> 3\u001b[0m \u001b[38;5;28;01mfrom\u001b[39;00m \u001b[38;5;21;01mutils\u001b[39;00m\u001b[38;5;21;01m.\u001b[39;00m\u001b[38;5;21;01mutils\u001b[39;00m \u001b[38;5;28;01mimport\u001b[39;00m \u001b[38;5;241m*\u001b[39m\n",
      "\u001b[0;31mModuleNotFoundError\u001b[0m: No module named 'utils'"
     ]
    }
   ],
   "source": [
    "import sys\n",
    "sys.path.insert(1, '/workspace')\n",
    "from utils.utils import *"
   ]
  },
  {
   "cell_type": "code",
   "execution_count": null,
   "metadata": {
    "colab": {
     "base_uri": "https://localhost:8080/"
    },
    "executionInfo": {
     "elapsed": 7,
     "status": "ok",
     "timestamp": 1627946100743,
     "user": {
      "displayName": "이정오",
      "photoUrl": "",
      "userId": "04886549528950007370"
     },
     "user_tz": -540
    },
    "id": "bpDy7SMqq2n2",
    "outputId": "e69bf870-d20f-4afa-bcdb-bc2ebdefc77b"
   },
   "outputs": [],
   "source": [
    "os.cpu_count()"
   ]
  },
  {
   "cell_type": "markdown",
   "metadata": {},
   "source": [
    "# Load Image and Label"
   ]
  },
  {
   "cell_type": "code",
   "execution_count": 14,
   "metadata": {},
   "outputs": [],
   "source": [
    "raw_data_dir = '/workspace/BoneMeta_raw'\n",
    "\n",
    "image_data_dir = '/workspace/BoneMeta_latest/images'\n",
    "label_data_dir = '/workspace/BoneMeta_latest/labels'\n",
    "\n",
    "all_1mm_image_dir = '/workspace/BoneMeta_all_1mm/images'\n",
    "all_1mm_label_dir = '/workspace/BoneMeta_all_1mm/labels'\n",
    "\n",
    "z_1mm_image_dir = '/workspace/BoneMeta_z_1mm/images'\n",
    "z_1mm_label_dir = '/workspace/BoneMeta_z_1mm/labels'\n",
    "\n",
    "data_info_path = '/workspace/DataInfo/data_info_latest.csv'\n",
    "\n",
    "\n",
    "def get_label_path(file):\n",
    "    return os.path.join(label_data_dir, file)\n",
    "\n",
    "def get_image_path(file):\n",
    "    return os.path.join(image_data_dir, file)"
   ]
  },
  {
   "cell_type": "code",
   "execution_count": 15,
   "metadata": {},
   "outputs": [],
   "source": [
    "data_info = pd.read_csv(data_info_path, index_col=0)"
   ]
  },
  {
   "cell_type": "code",
   "execution_count": 16,
   "metadata": {},
   "outputs": [
    {
     "data": {
      "text/html": [
       "<div>\n",
       "<style scoped>\n",
       "    .dataframe tbody tr th:only-of-type {\n",
       "        vertical-align: middle;\n",
       "    }\n",
       "\n",
       "    .dataframe tbody tr th {\n",
       "        vertical-align: top;\n",
       "    }\n",
       "\n",
       "    .dataframe thead th {\n",
       "        text-align: right;\n",
       "    }\n",
       "</style>\n",
       "<table border=\"1\" class=\"dataframe\">\n",
       "  <thead>\n",
       "    <tr style=\"text-align: right;\">\n",
       "      <th></th>\n",
       "      <th>File Name</th>\n",
       "      <th>Lesion Size</th>\n",
       "      <th>Lesion Location</th>\n",
       "      <th>Probability</th>\n",
       "      <th>I/V</th>\n",
       "      <th>Lesion Type</th>\n",
       "      <th>pathologic fracture</th>\n",
       "      <th>annotation</th>\n",
       "      <th>Original Shape</th>\n",
       "      <th>Pixel Size</th>\n",
       "      <th>X Spacing</th>\n",
       "      <th>Y Spacing</th>\n",
       "      <th>Slice Interval</th>\n",
       "      <th>Slice Thickness</th>\n",
       "      <th>Original Center</th>\n",
       "      <th>maskPos</th>\n",
       "    </tr>\n",
       "    <tr>\n",
       "      <th>Case</th>\n",
       "      <th></th>\n",
       "      <th></th>\n",
       "      <th></th>\n",
       "      <th></th>\n",
       "      <th></th>\n",
       "      <th></th>\n",
       "      <th></th>\n",
       "      <th></th>\n",
       "      <th></th>\n",
       "      <th></th>\n",
       "      <th></th>\n",
       "      <th></th>\n",
       "      <th></th>\n",
       "      <th></th>\n",
       "      <th></th>\n",
       "      <th></th>\n",
       "    </tr>\n",
       "  </thead>\n",
       "  <tbody>\n",
       "    <tr>\n",
       "      <th>SN110_20000101_CT Chest Lung</th>\n",
       "      <td>lesionAnnot3D-000.nii.gz</td>\n",
       "      <td>2351.041994</td>\n",
       "      <td>C7</td>\n",
       "      <td>100</td>\n",
       "      <td>V</td>\n",
       "      <td>S</td>\n",
       "      <td>NaN</td>\n",
       "      <td>C7/100/V/S</td>\n",
       "      <td>[512,512,315]</td>\n",
       "      <td>5406</td>\n",
       "      <td>0.589844</td>\n",
       "      <td>0.589844</td>\n",
       "      <td>1.25</td>\n",
       "      <td>1.25</td>\n",
       "      <td>[232,307,308]</td>\n",
       "      <td>(210,285,302)-(254,329,315)</td>\n",
       "    </tr>\n",
       "    <tr>\n",
       "      <th>SN110_20000101_CT Chest Lung</th>\n",
       "      <td>lesionAnnot3D-001.nii.gz</td>\n",
       "      <td>12717.197555</td>\n",
       "      <td>T8</td>\n",
       "      <td>100</td>\n",
       "      <td>V</td>\n",
       "      <td>S</td>\n",
       "      <td>pathologic fracture</td>\n",
       "      <td>T8/100/V/S/pathologic fracture</td>\n",
       "      <td>[512,512,315]</td>\n",
       "      <td>29242</td>\n",
       "      <td>0.589844</td>\n",
       "      <td>0.589844</td>\n",
       "      <td>1.25</td>\n",
       "      <td>1.25</td>\n",
       "      <td>[261,349,186]</td>\n",
       "      <td>(230,306,176)-(292,392,196)</td>\n",
       "    </tr>\n",
       "    <tr>\n",
       "      <th>SN110_20000101_CT Chest Lung</th>\n",
       "      <td>lesionAnnot3D-002.nii.gz</td>\n",
       "      <td>19585.058297</td>\n",
       "      <td>T11</td>\n",
       "      <td>100</td>\n",
       "      <td>V</td>\n",
       "      <td>M</td>\n",
       "      <td>pathologic fracture</td>\n",
       "      <td>T11/100/V/M/pathologic fracture</td>\n",
       "      <td>[512,512,315]</td>\n",
       "      <td>45034</td>\n",
       "      <td>0.589844</td>\n",
       "      <td>0.589844</td>\n",
       "      <td>1.25</td>\n",
       "      <td>1.25</td>\n",
       "      <td>[266,316,134]</td>\n",
       "      <td>(236,275,120)-(297,358,148)</td>\n",
       "    </tr>\n",
       "    <tr>\n",
       "      <th>SN110_20000101_CT Chest Lung</th>\n",
       "      <td>lesionAnnot3D-003.nii.gz</td>\n",
       "      <td>27607.565078</td>\n",
       "      <td>L3</td>\n",
       "      <td>100</td>\n",
       "      <td>V</td>\n",
       "      <td>M</td>\n",
       "      <td>pathologic fracture</td>\n",
       "      <td>L3/100/V/M/pathologic fracture</td>\n",
       "      <td>[512,512,315]</td>\n",
       "      <td>63481</td>\n",
       "      <td>0.589844</td>\n",
       "      <td>0.589844</td>\n",
       "      <td>1.25</td>\n",
       "      <td>1.25</td>\n",
       "      <td>[266,240,37]</td>\n",
       "      <td>(236,201,23)-(297,279,51)</td>\n",
       "    </tr>\n",
       "    <tr>\n",
       "      <th>SN110_20000101_CT Chest Lung</th>\n",
       "      <td>lesionAnnot3D-004.nii.gz</td>\n",
       "      <td>26804.749036</td>\n",
       "      <td>L4</td>\n",
       "      <td>100</td>\n",
       "      <td>V</td>\n",
       "      <td>M</td>\n",
       "      <td>pathologic fracture</td>\n",
       "      <td>L4/100/V/M/pathologic fracture</td>\n",
       "      <td>[512,512,315]</td>\n",
       "      <td>61635</td>\n",
       "      <td>0.589844</td>\n",
       "      <td>0.589844</td>\n",
       "      <td>1.25</td>\n",
       "      <td>1.25</td>\n",
       "      <td>[265,240,13]</td>\n",
       "      <td>(230,207,0)-(301,274,26)</td>\n",
       "    </tr>\n",
       "  </tbody>\n",
       "</table>\n",
       "</div>"
      ],
      "text/plain": [
       "                                             File Name   Lesion Size  \\\n",
       "Case                                                                   \n",
       "SN110_20000101_CT Chest Lung  lesionAnnot3D-000.nii.gz   2351.041994   \n",
       "SN110_20000101_CT Chest Lung  lesionAnnot3D-001.nii.gz  12717.197555   \n",
       "SN110_20000101_CT Chest Lung  lesionAnnot3D-002.nii.gz  19585.058297   \n",
       "SN110_20000101_CT Chest Lung  lesionAnnot3D-003.nii.gz  27607.565078   \n",
       "SN110_20000101_CT Chest Lung  lesionAnnot3D-004.nii.gz  26804.749036   \n",
       "\n",
       "                             Lesion Location Probability I/V Lesion Type  \\\n",
       "Case                                                                       \n",
       "SN110_20000101_CT Chest Lung              C7         100   V           S   \n",
       "SN110_20000101_CT Chest Lung              T8         100   V           S   \n",
       "SN110_20000101_CT Chest Lung             T11         100   V           M   \n",
       "SN110_20000101_CT Chest Lung              L3         100   V           M   \n",
       "SN110_20000101_CT Chest Lung              L4         100   V           M   \n",
       "\n",
       "                              pathologic fracture  \\\n",
       "Case                                                \n",
       "SN110_20000101_CT Chest Lung                  NaN   \n",
       "SN110_20000101_CT Chest Lung  pathologic fracture   \n",
       "SN110_20000101_CT Chest Lung  pathologic fracture   \n",
       "SN110_20000101_CT Chest Lung  pathologic fracture   \n",
       "SN110_20000101_CT Chest Lung  pathologic fracture   \n",
       "\n",
       "                                                   annotation Original Shape  \\\n",
       "Case                                                                           \n",
       "SN110_20000101_CT Chest Lung                       C7/100/V/S  [512,512,315]   \n",
       "SN110_20000101_CT Chest Lung   T8/100/V/S/pathologic fracture  [512,512,315]   \n",
       "SN110_20000101_CT Chest Lung  T11/100/V/M/pathologic fracture  [512,512,315]   \n",
       "SN110_20000101_CT Chest Lung   L3/100/V/M/pathologic fracture  [512,512,315]   \n",
       "SN110_20000101_CT Chest Lung   L4/100/V/M/pathologic fracture  [512,512,315]   \n",
       "\n",
       "                              Pixel Size  X Spacing  Y Spacing  \\\n",
       "Case                                                             \n",
       "SN110_20000101_CT Chest Lung        5406   0.589844   0.589844   \n",
       "SN110_20000101_CT Chest Lung       29242   0.589844   0.589844   \n",
       "SN110_20000101_CT Chest Lung       45034   0.589844   0.589844   \n",
       "SN110_20000101_CT Chest Lung       63481   0.589844   0.589844   \n",
       "SN110_20000101_CT Chest Lung       61635   0.589844   0.589844   \n",
       "\n",
       "                              Slice Interval  Slice Thickness Original Center  \\\n",
       "Case                                                                            \n",
       "SN110_20000101_CT Chest Lung            1.25             1.25   [232,307,308]   \n",
       "SN110_20000101_CT Chest Lung            1.25             1.25   [261,349,186]   \n",
       "SN110_20000101_CT Chest Lung            1.25             1.25   [266,316,134]   \n",
       "SN110_20000101_CT Chest Lung            1.25             1.25    [266,240,37]   \n",
       "SN110_20000101_CT Chest Lung            1.25             1.25    [265,240,13]   \n",
       "\n",
       "                                                  maskPos  \n",
       "Case                                                       \n",
       "SN110_20000101_CT Chest Lung  (210,285,302)-(254,329,315)  \n",
       "SN110_20000101_CT Chest Lung  (230,306,176)-(292,392,196)  \n",
       "SN110_20000101_CT Chest Lung  (236,275,120)-(297,358,148)  \n",
       "SN110_20000101_CT Chest Lung    (236,201,23)-(297,279,51)  \n",
       "SN110_20000101_CT Chest Lung     (230,207,0)-(301,274,26)  "
      ]
     },
     "execution_count": 16,
     "metadata": {},
     "output_type": "execute_result"
    }
   ],
   "source": [
    "pd.read_csv(data_info_path,index_col=0).tail()"
   ]
  },
  {
   "cell_type": "code",
   "execution_count": 17,
   "metadata": {},
   "outputs": [
    {
     "data": {
      "text/html": [
       "<div>\n",
       "<style scoped>\n",
       "    .dataframe tbody tr th:only-of-type {\n",
       "        vertical-align: middle;\n",
       "    }\n",
       "\n",
       "    .dataframe tbody tr th {\n",
       "        vertical-align: top;\n",
       "    }\n",
       "\n",
       "    .dataframe thead th {\n",
       "        text-align: right;\n",
       "    }\n",
       "</style>\n",
       "<table border=\"1\" class=\"dataframe\">\n",
       "  <thead>\n",
       "    <tr style=\"text-align: right;\">\n",
       "      <th></th>\n",
       "      <th>File Name</th>\n",
       "      <th>Lesion Size</th>\n",
       "      <th>Lesion Location</th>\n",
       "      <th>Probability</th>\n",
       "      <th>I/V</th>\n",
       "      <th>Lesion Type</th>\n",
       "      <th>pathologic fracture</th>\n",
       "      <th>annotation</th>\n",
       "      <th>Original Shape</th>\n",
       "      <th>Pixel Size</th>\n",
       "      <th>X Spacing</th>\n",
       "      <th>Y Spacing</th>\n",
       "      <th>Slice Interval</th>\n",
       "      <th>Slice Thickness</th>\n",
       "      <th>Original Center</th>\n",
       "      <th>maskPos</th>\n",
       "    </tr>\n",
       "    <tr>\n",
       "      <th>Case</th>\n",
       "      <th></th>\n",
       "      <th></th>\n",
       "      <th></th>\n",
       "      <th></th>\n",
       "      <th></th>\n",
       "      <th></th>\n",
       "      <th></th>\n",
       "      <th></th>\n",
       "      <th></th>\n",
       "      <th></th>\n",
       "      <th></th>\n",
       "      <th></th>\n",
       "      <th></th>\n",
       "      <th></th>\n",
       "      <th></th>\n",
       "      <th></th>\n",
       "    </tr>\n",
       "  </thead>\n",
       "  <tbody>\n",
       "    <tr>\n",
       "      <th>000005_20181202_CT Abdomen+Pelvis Dynamic (contrast)</th>\n",
       "      <td>lesionAnnot3D-000.nii.gz</td>\n",
       "      <td>40668.298796</td>\n",
       "      <td>L5</td>\n",
       "      <td>metastasis</td>\n",
       "      <td>V</td>\n",
       "      <td>L</td>\n",
       "      <td>pathologic fracture</td>\n",
       "      <td>L5/metastasis/V/L/pathologic fracture</td>\n",
       "      <td>[512,512,145]</td>\n",
       "      <td>34062</td>\n",
       "      <td>0.630859</td>\n",
       "      <td>0.630859</td>\n",
       "      <td>3.0</td>\n",
       "      <td>3.0</td>\n",
       "      <td>[298,298,53]</td>\n",
       "      <td>(242,254,43)-(355,342,63)</td>\n",
       "    </tr>\n",
       "    <tr>\n",
       "      <th>000009_20180417_Chest CT (contrast)</th>\n",
       "      <td>lesionAnnot3D-003.nii.gz</td>\n",
       "      <td>676.963073</td>\n",
       "      <td>T1-2</td>\n",
       "      <td>metastasis</td>\n",
       "      <td>I</td>\n",
       "      <td>S</td>\n",
       "      <td>NaN</td>\n",
       "      <td>T1-2/metastasis/I/S</td>\n",
       "      <td>[512,512,340]</td>\n",
       "      <td>1242</td>\n",
       "      <td>0.738281</td>\n",
       "      <td>0.738281</td>\n",
       "      <td>1.0</td>\n",
       "      <td>1.0</td>\n",
       "      <td>[285,297,301]</td>\n",
       "      <td>(277,290,293)-(293,304,309)</td>\n",
       "    </tr>\n",
       "    <tr>\n",
       "      <th>000009_20180417_Chest CT (contrast)</th>\n",
       "      <td>lesionAnnot3D-014.nii.gz</td>\n",
       "      <td>1834.668038</td>\n",
       "      <td>T11</td>\n",
       "      <td>metastasis</td>\n",
       "      <td>I</td>\n",
       "      <td>S</td>\n",
       "      <td>NaN</td>\n",
       "      <td>T11/metastasis/I/S</td>\n",
       "      <td>[512,512,340]</td>\n",
       "      <td>3366</td>\n",
       "      <td>0.738281</td>\n",
       "      <td>0.738281</td>\n",
       "      <td>1.0</td>\n",
       "      <td>1.0</td>\n",
       "      <td>[273,366,99]</td>\n",
       "      <td>(264,354,91)-(282,379,107)</td>\n",
       "    </tr>\n",
       "    <tr>\n",
       "      <th>000009_20180417_Chest CT (contrast)</th>\n",
       "      <td>lesionAnnot3D-018.nii.gz</td>\n",
       "      <td>613.736248</td>\n",
       "      <td>T12-4</td>\n",
       "      <td>metastasis</td>\n",
       "      <td>I</td>\n",
       "      <td>S</td>\n",
       "      <td>NaN</td>\n",
       "      <td>T12-4/metastasis/I/S</td>\n",
       "      <td>[512,512,340]</td>\n",
       "      <td>1126</td>\n",
       "      <td>0.738281</td>\n",
       "      <td>0.738281</td>\n",
       "      <td>1.0</td>\n",
       "      <td>1.0</td>\n",
       "      <td>[245,392,51]</td>\n",
       "      <td>(236,387,46)-(255,398,56)</td>\n",
       "    </tr>\n",
       "    <tr>\n",
       "      <th>000010_20181214_CT Abdomen+Pelvis Dynamic (contrast)</th>\n",
       "      <td>lesionAnnot3D-000.nii.gz</td>\n",
       "      <td>8027.330640</td>\n",
       "      <td>L4</td>\n",
       "      <td>metastasis</td>\n",
       "      <td>V</td>\n",
       "      <td>S</td>\n",
       "      <td>NaN</td>\n",
       "      <td>L4/metastasis/V/S</td>\n",
       "      <td>[512,512,134]</td>\n",
       "      <td>6893</td>\n",
       "      <td>0.623047</td>\n",
       "      <td>0.623047</td>\n",
       "      <td>3.0</td>\n",
       "      <td>3.0</td>\n",
       "      <td>[265,259,57]</td>\n",
       "      <td>(240,242,53)-(290,277,62)</td>\n",
       "    </tr>\n",
       "  </tbody>\n",
       "</table>\n",
       "</div>"
      ],
      "text/plain": [
       "                                                                   File Name  \\\n",
       "Case                                                                           \n",
       "000005_20181202_CT Abdomen+Pelvis Dynamic (cont...  lesionAnnot3D-000.nii.gz   \n",
       "000009_20180417_Chest CT (contrast)                 lesionAnnot3D-003.nii.gz   \n",
       "000009_20180417_Chest CT (contrast)                 lesionAnnot3D-014.nii.gz   \n",
       "000009_20180417_Chest CT (contrast)                 lesionAnnot3D-018.nii.gz   \n",
       "000010_20181214_CT Abdomen+Pelvis Dynamic (cont...  lesionAnnot3D-000.nii.gz   \n",
       "\n",
       "                                                     Lesion Size  \\\n",
       "Case                                                               \n",
       "000005_20181202_CT Abdomen+Pelvis Dynamic (cont...  40668.298796   \n",
       "000009_20180417_Chest CT (contrast)                   676.963073   \n",
       "000009_20180417_Chest CT (contrast)                  1834.668038   \n",
       "000009_20180417_Chest CT (contrast)                   613.736248   \n",
       "000010_20181214_CT Abdomen+Pelvis Dynamic (cont...   8027.330640   \n",
       "\n",
       "                                                   Lesion Location  \\\n",
       "Case                                                                 \n",
       "000005_20181202_CT Abdomen+Pelvis Dynamic (cont...              L5   \n",
       "000009_20180417_Chest CT (contrast)                           T1-2   \n",
       "000009_20180417_Chest CT (contrast)                            T11   \n",
       "000009_20180417_Chest CT (contrast)                          T12-4   \n",
       "000010_20181214_CT Abdomen+Pelvis Dynamic (cont...              L4   \n",
       "\n",
       "                                                   Probability I/V  \\\n",
       "Case                                                                 \n",
       "000005_20181202_CT Abdomen+Pelvis Dynamic (cont...  metastasis   V   \n",
       "000009_20180417_Chest CT (contrast)                 metastasis   I   \n",
       "000009_20180417_Chest CT (contrast)                 metastasis   I   \n",
       "000009_20180417_Chest CT (contrast)                 metastasis   I   \n",
       "000010_20181214_CT Abdomen+Pelvis Dynamic (cont...  metastasis   V   \n",
       "\n",
       "                                                   Lesion Type  \\\n",
       "Case                                                             \n",
       "000005_20181202_CT Abdomen+Pelvis Dynamic (cont...           L   \n",
       "000009_20180417_Chest CT (contrast)                          S   \n",
       "000009_20180417_Chest CT (contrast)                          S   \n",
       "000009_20180417_Chest CT (contrast)                          S   \n",
       "000010_20181214_CT Abdomen+Pelvis Dynamic (cont...           S   \n",
       "\n",
       "                                                    pathologic fracture  \\\n",
       "Case                                                                      \n",
       "000005_20181202_CT Abdomen+Pelvis Dynamic (cont...  pathologic fracture   \n",
       "000009_20180417_Chest CT (contrast)                                 NaN   \n",
       "000009_20180417_Chest CT (contrast)                                 NaN   \n",
       "000009_20180417_Chest CT (contrast)                                 NaN   \n",
       "000010_20181214_CT Abdomen+Pelvis Dynamic (cont...                  NaN   \n",
       "\n",
       "                                                                               annotation  \\\n",
       "Case                                                                                        \n",
       "000005_20181202_CT Abdomen+Pelvis Dynamic (cont...  L5/metastasis/V/L/pathologic fracture   \n",
       "000009_20180417_Chest CT (contrast)                                   T1-2/metastasis/I/S   \n",
       "000009_20180417_Chest CT (contrast)                                    T11/metastasis/I/S   \n",
       "000009_20180417_Chest CT (contrast)                                  T12-4/metastasis/I/S   \n",
       "000010_20181214_CT Abdomen+Pelvis Dynamic (cont...                      L4/metastasis/V/S   \n",
       "\n",
       "                                                   Original Shape  Pixel Size  \\\n",
       "Case                                                                            \n",
       "000005_20181202_CT Abdomen+Pelvis Dynamic (cont...  [512,512,145]       34062   \n",
       "000009_20180417_Chest CT (contrast)                 [512,512,340]        1242   \n",
       "000009_20180417_Chest CT (contrast)                 [512,512,340]        3366   \n",
       "000009_20180417_Chest CT (contrast)                 [512,512,340]        1126   \n",
       "000010_20181214_CT Abdomen+Pelvis Dynamic (cont...  [512,512,134]        6893   \n",
       "\n",
       "                                                    X Spacing  Y Spacing  \\\n",
       "Case                                                                       \n",
       "000005_20181202_CT Abdomen+Pelvis Dynamic (cont...   0.630859   0.630859   \n",
       "000009_20180417_Chest CT (contrast)                  0.738281   0.738281   \n",
       "000009_20180417_Chest CT (contrast)                  0.738281   0.738281   \n",
       "000009_20180417_Chest CT (contrast)                  0.738281   0.738281   \n",
       "000010_20181214_CT Abdomen+Pelvis Dynamic (cont...   0.623047   0.623047   \n",
       "\n",
       "                                                    Slice Interval  \\\n",
       "Case                                                                 \n",
       "000005_20181202_CT Abdomen+Pelvis Dynamic (cont...             3.0   \n",
       "000009_20180417_Chest CT (contrast)                            1.0   \n",
       "000009_20180417_Chest CT (contrast)                            1.0   \n",
       "000009_20180417_Chest CT (contrast)                            1.0   \n",
       "000010_20181214_CT Abdomen+Pelvis Dynamic (cont...             3.0   \n",
       "\n",
       "                                                    Slice Thickness  \\\n",
       "Case                                                                  \n",
       "000005_20181202_CT Abdomen+Pelvis Dynamic (cont...              3.0   \n",
       "000009_20180417_Chest CT (contrast)                             1.0   \n",
       "000009_20180417_Chest CT (contrast)                             1.0   \n",
       "000009_20180417_Chest CT (contrast)                             1.0   \n",
       "000010_20181214_CT Abdomen+Pelvis Dynamic (cont...              3.0   \n",
       "\n",
       "                                                   Original Center  \\\n",
       "Case                                                                 \n",
       "000005_20181202_CT Abdomen+Pelvis Dynamic (cont...    [298,298,53]   \n",
       "000009_20180417_Chest CT (contrast)                  [285,297,301]   \n",
       "000009_20180417_Chest CT (contrast)                   [273,366,99]   \n",
       "000009_20180417_Chest CT (contrast)                   [245,392,51]   \n",
       "000010_20181214_CT Abdomen+Pelvis Dynamic (cont...    [265,259,57]   \n",
       "\n",
       "                                                                        maskPos  \n",
       "Case                                                                             \n",
       "000005_20181202_CT Abdomen+Pelvis Dynamic (cont...    (242,254,43)-(355,342,63)  \n",
       "000009_20180417_Chest CT (contrast)                 (277,290,293)-(293,304,309)  \n",
       "000009_20180417_Chest CT (contrast)                  (264,354,91)-(282,379,107)  \n",
       "000009_20180417_Chest CT (contrast)                   (236,387,46)-(255,398,56)  \n",
       "000010_20181214_CT Abdomen+Pelvis Dynamic (cont...    (240,242,53)-(290,277,62)  "
      ]
     },
     "execution_count": 17,
     "metadata": {},
     "output_type": "execute_result"
    }
   ],
   "source": [
    "data_info.head()"
   ]
  },
  {
   "cell_type": "code",
   "execution_count": null,
   "metadata": {},
   "outputs": [],
   "source": []
  },
  {
   "cell_type": "code",
   "execution_count": null,
   "metadata": {},
   "outputs": [],
   "source": []
  },
  {
   "cell_type": "markdown",
   "metadata": {},
   "source": [
    "## Resample all 1mm"
   ]
  },
  {
   "cell_type": "code",
   "execution_count": 26,
   "metadata": {},
   "outputs": [],
   "source": [
    "CT_info_path = '/workspace/DataInfo/CT_info_latest.csv'"
   ]
  },
  {
   "cell_type": "code",
   "execution_count": 29,
   "metadata": {},
   "outputs": [],
   "source": [
    "CT_info = pd.read_csv(CT_info_path)"
   ]
  },
  {
   "cell_type": "code",
   "execution_count": 30,
   "metadata": {},
   "outputs": [
    {
     "data": {
      "text/html": [
       "<div>\n",
       "<style scoped>\n",
       "    .dataframe tbody tr th:only-of-type {\n",
       "        vertical-align: middle;\n",
       "    }\n",
       "\n",
       "    .dataframe tbody tr th {\n",
       "        vertical-align: top;\n",
       "    }\n",
       "\n",
       "    .dataframe thead th {\n",
       "        text-align: right;\n",
       "    }\n",
       "</style>\n",
       "<table border=\"1\" class=\"dataframe\">\n",
       "  <thead>\n",
       "    <tr style=\"text-align: right;\">\n",
       "      <th></th>\n",
       "      <th>Case</th>\n",
       "      <th>Original Shape</th>\n",
       "      <th>X Spacing</th>\n",
       "      <th>Y Spacing</th>\n",
       "      <th>Slice Interval</th>\n",
       "      <th>Slice Thickness</th>\n",
       "      <th>1mm Shape</th>\n",
       "    </tr>\n",
       "  </thead>\n",
       "  <tbody>\n",
       "    <tr>\n",
       "      <th>0</th>\n",
       "      <td>000005_20181202_CT Abdomen+Pelvis Dynamic (con...</td>\n",
       "      <td>[512,512,145]</td>\n",
       "      <td>0.630859</td>\n",
       "      <td>0.630859</td>\n",
       "      <td>3.0</td>\n",
       "      <td>3.0</td>\n",
       "      <td>[323,323,435]</td>\n",
       "    </tr>\n",
       "    <tr>\n",
       "      <th>1</th>\n",
       "      <td>000009_20180417_Chest CT (contrast)</td>\n",
       "      <td>[512,512,340]</td>\n",
       "      <td>0.738281</td>\n",
       "      <td>0.738281</td>\n",
       "      <td>1.0</td>\n",
       "      <td>1.0</td>\n",
       "      <td>[378,378,340]</td>\n",
       "    </tr>\n",
       "    <tr>\n",
       "      <th>2</th>\n",
       "      <td>000010_20181214_CT Abdomen+Pelvis Dynamic (con...</td>\n",
       "      <td>[512,512,134]</td>\n",
       "      <td>0.623047</td>\n",
       "      <td>0.623047</td>\n",
       "      <td>3.0</td>\n",
       "      <td>3.0</td>\n",
       "      <td>[319,319,402]</td>\n",
       "    </tr>\n",
       "    <tr>\n",
       "      <th>3</th>\n",
       "      <td>000011_20181207_Chest CT (contrast)</td>\n",
       "      <td>[512,512,296]</td>\n",
       "      <td>0.658203</td>\n",
       "      <td>0.658203</td>\n",
       "      <td>1.0</td>\n",
       "      <td>1.0</td>\n",
       "      <td>[337,337,296]</td>\n",
       "    </tr>\n",
       "    <tr>\n",
       "      <th>4</th>\n",
       "      <td>000011_20181207_CT Abdomen+Pelvis Post (contrast)</td>\n",
       "      <td>[512,512,135]</td>\n",
       "      <td>0.679688</td>\n",
       "      <td>0.679688</td>\n",
       "      <td>3.0</td>\n",
       "      <td>3.0</td>\n",
       "      <td>[348,348,405]</td>\n",
       "    </tr>\n",
       "  </tbody>\n",
       "</table>\n",
       "</div>"
      ],
      "text/plain": [
       "                                                Case Original Shape  \\\n",
       "0  000005_20181202_CT Abdomen+Pelvis Dynamic (con...  [512,512,145]   \n",
       "1                000009_20180417_Chest CT (contrast)  [512,512,340]   \n",
       "2  000010_20181214_CT Abdomen+Pelvis Dynamic (con...  [512,512,134]   \n",
       "3                000011_20181207_Chest CT (contrast)  [512,512,296]   \n",
       "4  000011_20181207_CT Abdomen+Pelvis Post (contrast)  [512,512,135]   \n",
       "\n",
       "   X Spacing  Y Spacing  Slice Interval  Slice Thickness      1mm Shape  \n",
       "0   0.630859   0.630859             3.0              3.0  [323,323,435]  \n",
       "1   0.738281   0.738281             1.0              1.0  [378,378,340]  \n",
       "2   0.623047   0.623047             3.0              3.0  [319,319,402]  \n",
       "3   0.658203   0.658203             1.0              1.0  [337,337,296]  \n",
       "4   0.679688   0.679688             3.0              3.0  [348,348,405]  "
      ]
     },
     "execution_count": 30,
     "metadata": {},
     "output_type": "execute_result"
    }
   ],
   "source": [
    "CT_info.head()"
   ]
  },
  {
   "cell_type": "code",
   "execution_count": 32,
   "metadata": {},
   "outputs": [
    {
     "name": "stdout",
     "output_type": "stream",
     "text": [
      "(471, 1)\n"
     ]
    }
   ],
   "source": [
    "SIZE_INFO_DF = CT_info.loc[:,['Case', '1mm Shape']]\n",
    "SIZE_INFO_DF.drop_duplicates(inplace=True)\n",
    "SIZE_INFO_DF.set_index('Case', inplace=True)\n",
    "print(SIZE_INFO_DF.shape)"
   ]
  },
  {
   "cell_type": "code",
   "execution_count": 33,
   "metadata": {},
   "outputs": [
    {
     "data": {
      "text/html": [
       "<div>\n",
       "<style scoped>\n",
       "    .dataframe tbody tr th:only-of-type {\n",
       "        vertical-align: middle;\n",
       "    }\n",
       "\n",
       "    .dataframe tbody tr th {\n",
       "        vertical-align: top;\n",
       "    }\n",
       "\n",
       "    .dataframe thead th {\n",
       "        text-align: right;\n",
       "    }\n",
       "</style>\n",
       "<table border=\"1\" class=\"dataframe\">\n",
       "  <thead>\n",
       "    <tr style=\"text-align: right;\">\n",
       "      <th></th>\n",
       "      <th>1mm Shape</th>\n",
       "    </tr>\n",
       "    <tr>\n",
       "      <th>Case</th>\n",
       "      <th></th>\n",
       "    </tr>\n",
       "  </thead>\n",
       "  <tbody>\n",
       "  </tbody>\n",
       "</table>\n",
       "</div>"
      ],
      "text/plain": [
       "Empty DataFrame\n",
       "Columns: [1mm Shape]\n",
       "Index: []"
      ]
     },
     "execution_count": 33,
     "metadata": {},
     "output_type": "execute_result"
    }
   ],
   "source": [
    "SIZE_INFO_DF.loc[(SIZE_INFO_DF.index.duplicated()),:]"
   ]
  },
  {
   "cell_type": "code",
   "execution_count": 42,
   "metadata": {},
   "outputs": [],
   "source": [
    "image_data_dir = '/workspace/BoneMeta_latest/images'\n",
    "label_data_dir = '/workspace/BoneMeta_128/preds_boneseg/boneseg3d_fn_0_nowin_elastdf_5lyr_model_epoch100/numpy'\n",
    "\n",
    "all_1mm_image_dir = '/workspace/BoneMeta_all_1mm/images'\n",
    "all_1mm_label_dir = '/workspace/BoneMeta_all_1mm/boneseg'\n",
    "\n",
    "os.makedirs(all_1mm_image_dir, exist_ok=True)\n",
    "os.makedirs(all_1mm_label_dir, exist_ok=True)\n",
    "\n",
    "def get_label_path(file):\n",
    "    return os.path.join(label_data_dir, file)\n",
    "\n",
    "def get_image_path(file):\n",
    "    return os.path.join(image_data_dir, file)"
   ]
  },
  {
   "cell_type": "code",
   "execution_count": 43,
   "metadata": {},
   "outputs": [],
   "source": [
    "def str_to_size(size_str):\n",
    "    crz = size_str.strip('[]').split(',')\n",
    "    torch_size = [int(value) for value in crz] \n",
    "    torch_size.reverse() # crz to zrc\n",
    "    return torch_size\n",
    "\n",
    "def get_size(file):\n",
    "    case = file_to_case(file)\n",
    "    size_str = SIZE_INFO_DF.loc[case]['1mm Shape']\n",
    "    if not type(size_str) == str:\n",
    "        size_str = size_str[0]\n",
    "    tensor_size = str_to_size(size_str)\n",
    "    return tensor_size\n",
    "\n",
    "def resample_all_1mm(np_image, target_size):\n",
    "    resizer = Resize(target_size)\n",
    "    resized_image = resizer(np_image[np.newaxis,:]) # with channel\n",
    "    return resized_image[0] # without channel\n",
    "\n",
    "def resample_all_1mm_label(np_label, target_size):\n",
    "    np_label = np_label > 0.5\n",
    "    resizer = Resize(target_size)\n",
    "    resized_label = resizer(np_label[np.newaxis,:]) # with channel\n",
    "    return resized_label[0] # without channel"
   ]
  },
  {
   "cell_type": "code",
   "execution_count": 47,
   "metadata": {},
   "outputs": [],
   "source": [
    "def save_label(np_image, target_dir, file_name):\n",
    "    np_image = (np_image>0.1).astype(np.uint8)\n",
    "    np.save(os.path.join(target_dir, file_name), np_image)"
   ]
  },
  {
   "cell_type": "code",
   "execution_count": 37,
   "metadata": {},
   "outputs": [
    {
     "name": "stdout",
     "output_type": "stream",
     "text": [
      "000270_20190601_CT Abdomen+Pelvis Dynamic (contrast).npy\n",
      "000424_20200312_Chest CT (noncontrast).npy\n",
      "000352_20191001_CT Abdomen+Pelvis Dynamic (contrast).npy\n",
      "000391_20200216_Thoracic Aorta CT Angio+3D (contrast).npy\n",
      "000424_20200218_Chest CT (contrast).npy\n",
      "BH069_20200505_Chest CT (contrast) + 3D.npy\n",
      "000270_20190608_Chest CT (contrast).npy\n",
      "BH002_20190701_Chest CT (Non contrast) + 3D.npy\n",
      "000273_20190531_Chest CT (contrast).npy\n",
      "BH091_20200104_Chest CT (contrast) + 3D (Chest with other CT).npy\n",
      "000557_20210621_Chest CT (contrast).npy\n",
      "000439_20200624_Chest CT (contrast).npy\n",
      "000352_20191017_Chest CT (contrast).npy\n",
      "000325_20190919_Chest CT (contrast).npy\n",
      "\n",
      "consumed_time: 51.40529946796596s\n",
      "\n"
     ]
    }
   ],
   "source": [
    "from multiprocessing import Pool\n",
    "\n",
    "def save_image(np_image, target_dir, file_name):\n",
    "    np_image = np_image.astype(np.int16)\n",
    "    np.save(os.path.join(target_dir, file_name), np_image)\n",
    "    \n",
    "def save_label(np_image, target_dir, file_name):\n",
    "    np_image = (np_image>0.5).astype(np.uint8)\n",
    "    np.save(os.path.join(target_dir, file_name), np_image)\n",
    "\n",
    "def resample(file, file_dir, target_dir, resample_func, save_func):\n",
    "    try:\n",
    "        np_file = np.load(os.path.join(file_dir, file))\n",
    "        target_size = get_size(file)\n",
    "        resampled_image = resample_func(np_file, target_size)\n",
    "        save_func(resampled_image, target_dir, file)\n",
    "    except:\n",
    "        print(file)\n",
    "\n",
    "def wrapper(args):\n",
    "    return resample(*args)\n",
    "\n",
    "t = time.perf_counter()\n",
    "\n",
    "file_list = os.listdir(image_data_dir)\n",
    "arg_list = [(file, image_data_dir, all_1mm_image_dir, resample_all_1mm, save_image) for file in file_list]\n",
    "pool = Pool(processes=32)\n",
    "pool.map(wrapper, arg_list)\n",
    "pool.close()\n",
    "pool.join()\n",
    "\n",
    "elapsed_time = time.perf_counter() - t\n",
    "\n",
    "print(f'''\n",
    "consumed_time: {elapsed_time}s\n",
    "''')"
   ]
  },
  {
   "cell_type": "code",
   "execution_count": 48,
   "metadata": {},
   "outputs": [
    {
     "name": "stdout",
     "output_type": "stream",
     "text": [
      "000424_20200312_Chest CT (noncontrast).npy\n",
      "000270_20190601_CT Abdomen+Pelvis Dynamic (contrast).npy\n",
      "000391_20200216_Thoracic Aorta CT Angio+3D (contrast).npy\n",
      "000352_20191001_CT Abdomen+Pelvis Dynamic (contrast).npy\n",
      "000424_20200218_Chest CT (contrast).npy\n",
      "BH069_20200505_Chest CT (contrast) + 3D.npy\n",
      "000270_20190608_Chest CT (contrast).npy\n",
      "BH002_20190701_Chest CT (Non contrast) + 3D.npy\n",
      "BH091_20200104_Chest CT (contrast) + 3D (Chest with other CT).npy\n",
      "000273_20190531_Chest CT (contrast).npy\n",
      "000557_20210621_Chest CT (contrast).npy\n",
      "000439_20200624_Chest CT (contrast).npy\n",
      "000325_20190919_Chest CT (contrast).npy\n",
      "000352_20191017_Chest CT (contrast).npy\n",
      "\n",
      "consumed_time: 28.506764388643205s\n",
      "\n"
     ]
    }
   ],
   "source": [
    "t = time.perf_counter()\n",
    "\n",
    "file_list = os.listdir(image_data_dir)\n",
    "arg_list = [(file, label_data_dir, all_1mm_label_dir, resample_all_1mm_label, save_label) for file in file_list]\n",
    "pool = Pool(processes=32)\n",
    "pool.map(wrapper, arg_list)\n",
    "pool.close()\n",
    "pool.join()\n",
    "\n",
    "elapsed_time = time.perf_counter() - t\n",
    "\n",
    "print(f'''\n",
    "consumed_time: {elapsed_time}s\n",
    "''')"
   ]
  },
  {
   "cell_type": "code",
   "execution_count": null,
   "metadata": {},
   "outputs": [],
   "source": []
  },
  {
   "cell_type": "code",
   "execution_count": null,
   "metadata": {},
   "outputs": [],
   "source": []
  },
  {
   "cell_type": "markdown",
   "metadata": {},
   "source": [
    "## Resample all same size"
   ]
  },
  {
   "cell_type": "code",
   "execution_count": 4,
   "metadata": {
    "scrolled": true
   },
   "outputs": [
    {
     "name": "stdout",
     "output_type": "stream",
     "text": [
      "BoneMeta_192+\t  Commands.md  docker\t     jo_nb\r\n",
      "BoneMeta_all_1mm  DataInfo     docker_py3.9\r\n"
     ]
    }
   ],
   "source": [
    "!ls /workspace"
   ]
  },
  {
   "cell_type": "code",
   "execution_count": 5,
   "metadata": {},
   "outputs": [],
   "source": [
    "from multiprocessing import Pool\n",
    "\n",
    "class Resampler:\n",
    "    def __init__(self, origin_dir, target_dir, resample_size, is_label=False):\n",
    "        self.origin_dir, self.target_dir, self.resample_size, self.is_label = origin_dir, target_dir, resample_size, is_label\n",
    "\n",
    "    def save_np(self, np_image, target_dir, file_name):\n",
    "        if self.is_label:\n",
    "            np_image = (np_image>0.5).astype(np.uint8)            \n",
    "        else:\n",
    "            np_image = np_image.astype(np.int16)\n",
    "        np.save(os.path.join(target_dir, file_name), np_image)\n",
    "\n",
    "    def resize(self, np_image): \n",
    "        if self.is_label:\n",
    "            np_image = np_image > 0.5\n",
    "        resizer = Resize(self.resample_size)\n",
    "        resized_image = resizer(np_image[np.newaxis,:]) # with channel\n",
    "        return resized_image[0] # without channel\n",
    "\n",
    "    def resample(self, file, origin_dir, target_dir, resample_func, save_func):\n",
    "        np_file = np.load(os.path.join(origin_dir, file))\n",
    "        resampled_image = resample_func(np_file)\n",
    "        save_func(resampled_image, target_dir, file)\n",
    "\n",
    "    def wrapper(self, args):\n",
    "        return self.resample(*args)\n",
    "\n",
    "    def resample_all(self):\n",
    "        os.makedirs(self.target_dir, exist_ok=True)\n",
    "\n",
    "        t = time.perf_counter()\n",
    "\n",
    "        file_list = os.listdir(self.origin_dir)\n",
    "        arg_list = [(file, self.origin_dir, self.target_dir, self.resize, self.save_np) for file in file_list]\n",
    "        pool = Pool(processes=32)\n",
    "        pool.map(self.wrapper, arg_list)\n",
    "        pool.close()\n",
    "        pool.join()\n",
    "\n",
    "        elapsed_time = time.perf_counter() - t\n",
    "\n",
    "        print(f'''\n",
    "        consumed_time: {elapsed_time}s\n",
    "        ''')\n",
    "\n",
    "class MultiChResampler:\n",
    "    def __init__(self, origin_dir, target_dir, resample_size, is_label=False):\n",
    "        self.origin_dir, self.target_dir, self.resample_size, self.is_label = origin_dir, target_dir, resample_size, is_label\n",
    "\n",
    "    def save_np(self, np_image, target_dir, file_name):\n",
    "        if self.is_label:\n",
    "            np_image = np_image.astype(np.uint8)            \n",
    "        else:\n",
    "            np_image = np_image.astype(np.int16)\n",
    "        np.save(os.path.join(target_dir, file_name), np_image)\n",
    "\n",
    "    def resize(self, np_image): \n",
    "        if self.is_label:\n",
    "            resizer = Resize(self.resample_size, mode='nearest')\n",
    "        else: \n",
    "            resizer = Resize(self.resample_size)\n",
    "        resized_image = resizer(np_image[np.newaxis,:]) # with channel\n",
    "        return resized_image[0] # without channel\n",
    "\n",
    "    def resample(self, file, origin_dir, target_dir, resample_func, save_func):\n",
    "        np_file = np.load(os.path.join(origin_dir, file))\n",
    "        resampled_image = resample_func(np_file)\n",
    "        save_func(resampled_image, target_dir, file)\n",
    "\n",
    "    def wrapper(self, args):\n",
    "        return self.resample(*args)\n",
    "\n",
    "    def resample_all(self):\n",
    "        os.makedirs(self.target_dir, exist_ok=True)\n",
    "\n",
    "        t = time.perf_counter()\n",
    "\n",
    "        file_list = os.listdir(self.origin_dir)\n",
    "        arg_list = [(file, self.origin_dir, self.target_dir, self.resize, self.save_np) for file in file_list]\n",
    "        pool = Pool(processes=32)\n",
    "        pool.map(self.wrapper, arg_list)\n",
    "        pool.close()\n",
    "        pool.join()\n",
    "\n",
    "        elapsed_time = time.perf_counter() - t\n",
    "\n",
    "        print(f'''\n",
    "        consumed_time: {elapsed_time}s\n",
    "        ''')"
   ]
  },
  {
   "cell_type": "code",
   "execution_count": 7,
   "metadata": {},
   "outputs": [
    {
     "name": "stdout",
     "output_type": "stream",
     "text": [
      "images\t   labels_V  models  small_labels_V\r\n",
      "labels_IV  logs      preds   small_labels_VI_orig\r\n"
     ]
    }
   ],
   "source": [
    "!ls /workspace/BoneMeta_192+"
   ]
  },
  {
   "cell_type": "code",
   "execution_count": 8,
   "metadata": {},
   "outputs": [
    {
     "name": "stdout",
     "output_type": "stream",
     "text": [
      "\n",
      "        consumed_time: 17.82566604297608s\n",
      "        \n"
     ]
    }
   ],
   "source": [
    "source_dir = '/workspace/ExternalValidation/images'\n",
    "target_dir = '/workspace/External_192+/images'\n",
    "\n",
    "source_dir_lb = '/workspace/BoneMeta_192+/small_labels_VI_orig'\n",
    "target_dir_lb = '/workspace/BoneMeta_192+/small_labels_VI'\n",
    "\n",
    "source_dir_lb_2 = '/workspace/ExternalValidation/labels_IV'\n",
    "target_dir_lb_2 = '/workspace/External_192+/labels_IV'\n",
    "\n",
    "target_shape = [192,192,224]\n",
    "\n",
    "image_resampler = Resampler(source_dir, target_dir, target_shape)\n",
    "label_resampler_1 = Resampler(source_dir_lb, target_dir_lb, target_shape, True)\n",
    "# label_resampler_2 = Resampler(source_dir_lb_2, target_dir_lb_2, target_shape, True)\n",
    "# label_resampler_3 = Resampler('/workspace/BoneMeta_new/labels_sclerotic', '/workspace/BoneMeta_all_192/labels_sclerotic', [192,192,192], True)\n",
    "\n",
    "# image_resampler.resample_all()\n",
    "label_resampler_1.resample_all()\n",
    "# label_resampler_2.resample_all()\n",
    "# label_resampler_3.resample_all()\n"
   ]
  },
  {
   "cell_type": "code",
   "execution_count": 6,
   "metadata": {},
   "outputs": [
    {
     "name": "stdout",
     "output_type": "stream",
     "text": [
      "\n",
      "        consumed_time: 4.516461744904518s\n",
      "        \n",
      "\n",
      "        consumed_time: 4.485456331633031s\n",
      "        \n",
      "\n",
      "        consumed_time: 4.566804098896682s\n",
      "        \n"
     ]
    }
   ],
   "source": [
    "source_dir = '/workspace/ExternalValidation/images'\n",
    "target_dir = '/workspace/External_224+/images'\n",
    "\n",
    "source_dir_lb = '/workspace/ExternalValidation/labels_V'\n",
    "target_dir_lb = '/workspace/External_224+/labels_V'\n",
    "\n",
    "source_dir_lb_2 = '/workspace/ExternalValidation/labels_IV'\n",
    "target_dir_lb_2 = '/workspace/External_224+/labels_IV'\n",
    "\n",
    "target_shape = [224,224,256]\n",
    "\n",
    "image_resampler = Resampler(source_dir, target_dir, target_shape)\n",
    "label_resampler_1 = Resampler(source_dir_lb, target_dir_lb, target_shape, True)\n",
    "label_resampler_2 = Resampler(source_dir_lb_2, target_dir_lb_2, target_shape, True)\n",
    "# label_resampler_3 = Resampler('/workspace/BoneMeta_new/labels_sclerotic', '/workspace/BoneMeta_all_192/labels_sclerotic', [192,192,192], True)\n",
    "\n",
    "image_resampler.resample_all()\n",
    "label_resampler_1.resample_all()\n",
    "label_resampler_2.resample_all()\n",
    "# label_resampler_3.resample_all()"
   ]
  },
  {
   "cell_type": "code",
   "execution_count": 21,
   "metadata": {},
   "outputs": [
    {
     "name": "stdout",
     "output_type": "stream",
     "text": [
      "\n",
      "        consumed_time: 159.7472921013832s\n",
      "        \n",
      "\n",
      "        consumed_time: 79.46646624896675s\n",
      "        \n",
      "\n",
      "        consumed_time: 79.34824098274112s\n",
      "        \n"
     ]
    }
   ],
   "source": [
    "source_dir = '/workspace/BoneMeta_latest/images'\n",
    "target_dir = '/workspace/BoneMeta_128/images'\n",
    "\n",
    "source_dir_lb = '/workspace/BoneMeta_latest/labels_V'\n",
    "target_dir_lb = '/workspace/BoneMeta_128/labels_V'\n",
    "\n",
    "source_dir_lb_2 = '/workspace/BoneMeta_latest/labels_IV'\n",
    "target_dir_lb_2 = '/workspace/BoneMeta_128/labels_IV'\n",
    "\n",
    "target_shape = [128,128,128]\n",
    "\n",
    "image_resampler = Resampler(source_dir, target_dir, target_shape)\n",
    "label_resampler_1 = Resampler(source_dir_lb, target_dir_lb, target_shape, True)\n",
    "label_resampler_2 = Resampler(source_dir_lb_2, target_dir_lb_2, target_shape, True)\n",
    "# label_resampler_3 = Resampler('/workspace/BoneMeta_new/labels_sclerotic', '/workspace/BoneMeta_all_192/labels_sclerotic', [192,192,192], True)\n",
    "\n",
    "image_resampler.resample_all()\n",
    "label_resampler_1.resample_all()\n",
    "label_resampler_2.resample_all()\n",
    "# label_resampler_3.resample_all()"
   ]
  },
  {
   "cell_type": "code",
   "execution_count": 95,
   "metadata": {},
   "outputs": [
    {
     "data": {
      "text/plain": [
       "(128, 128, 128)"
      ]
     },
     "execution_count": 95,
     "metadata": {},
     "output_type": "execute_result"
    }
   ],
   "source": [
    "np.load('/workspace/BoneMeta_all_128/images/BH008_20190701_abdomen.npy').shape"
   ]
  },
  {
   "cell_type": "code",
   "execution_count": 10,
   "metadata": {},
   "outputs": [],
   "source": [
    "file_names = os.listdir(all_128_image_dir)\n",
    "image_sizes = [np.load(os.path.join(all_128_image_dir, file)).shape for file in file_names]\n",
    "label_sizes = [np.load(os.path.join(all_128_label_dir, file)).shape for file in file_names]"
   ]
  },
  {
   "cell_type": "code",
   "execution_count": 11,
   "metadata": {},
   "outputs": [
    {
     "data": {
      "text/plain": [
       "[(128, 128, 128),\n",
       " (128, 128, 128),\n",
       " (128, 128, 128),\n",
       " (128, 128, 128),\n",
       " (128, 128, 128),\n",
       " (128, 128, 128),\n",
       " (128, 128, 128),\n",
       " (128, 128, 128),\n",
       " (128, 128, 128),\n",
       " (128, 128, 128),\n",
       " (128, 128, 128),\n",
       " (128, 128, 128),\n",
       " (128, 128, 128),\n",
       " (128, 128, 128),\n",
       " (128, 128, 128),\n",
       " (128, 128, 128),\n",
       " (128, 128, 128),\n",
       " (128, 128, 128),\n",
       " (128, 128, 128),\n",
       " (128, 128, 128),\n",
       " (128, 128, 128),\n",
       " (128, 128, 128),\n",
       " (128, 128, 128),\n",
       " (128, 128, 128),\n",
       " (128, 128, 128),\n",
       " (128, 128, 128),\n",
       " (128, 128, 128),\n",
       " (128, 128, 128),\n",
       " (128, 128, 128),\n",
       " (128, 128, 128),\n",
       " (128, 128, 128),\n",
       " (128, 128, 128),\n",
       " (128, 128, 128),\n",
       " (128, 128, 128),\n",
       " (128, 128, 128),\n",
       " (128, 128, 128),\n",
       " (128, 128, 128),\n",
       " (128, 128, 128),\n",
       " (128, 128, 128),\n",
       " (128, 128, 128),\n",
       " (128, 128, 128),\n",
       " (128, 128, 128),\n",
       " (128, 128, 128),\n",
       " (128, 128, 128),\n",
       " (128, 128, 128),\n",
       " (128, 128, 128),\n",
       " (128, 128, 128),\n",
       " (128, 128, 128),\n",
       " (128, 128, 128),\n",
       " (128, 128, 128),\n",
       " (128, 128, 128),\n",
       " (128, 128, 128),\n",
       " (128, 128, 128),\n",
       " (128, 128, 128),\n",
       " (128, 128, 128),\n",
       " (128, 128, 128),\n",
       " (128, 128, 128),\n",
       " (128, 128, 128),\n",
       " (128, 128, 128),\n",
       " (128, 128, 128),\n",
       " (128, 128, 128),\n",
       " (128, 128, 128),\n",
       " (128, 128, 128),\n",
       " (128, 128, 128),\n",
       " (128, 128, 128),\n",
       " (128, 128, 128),\n",
       " (128, 128, 128),\n",
       " (128, 128, 128),\n",
       " (128, 128, 128),\n",
       " (128, 128, 128),\n",
       " (128, 128, 128),\n",
       " (128, 128, 128),\n",
       " (128, 128, 128),\n",
       " (128, 128, 128),\n",
       " (128, 128, 128),\n",
       " (128, 128, 128),\n",
       " (128, 128, 128),\n",
       " (128, 128, 128),\n",
       " (128, 128, 128),\n",
       " (128, 128, 128),\n",
       " (128, 128, 128),\n",
       " (128, 128, 128),\n",
       " (128, 128, 128),\n",
       " (128, 128, 128),\n",
       " (128, 128, 128),\n",
       " (128, 128, 128),\n",
       " (128, 128, 128),\n",
       " (128, 128, 128),\n",
       " (128, 128, 128),\n",
       " (128, 128, 128),\n",
       " (128, 128, 128),\n",
       " (128, 128, 128),\n",
       " (128, 128, 128),\n",
       " (128, 128, 128),\n",
       " (128, 128, 128),\n",
       " (128, 128, 128),\n",
       " (128, 128, 128),\n",
       " (128, 128, 128),\n",
       " (128, 128, 128),\n",
       " (128, 128, 128),\n",
       " (128, 128, 128),\n",
       " (128, 128, 128),\n",
       " (128, 128, 128),\n",
       " (128, 128, 128),\n",
       " (128, 128, 128),\n",
       " (128, 128, 128),\n",
       " (128, 128, 128),\n",
       " (128, 128, 128),\n",
       " (128, 128, 128),\n",
       " (128, 128, 128),\n",
       " (128, 128, 128),\n",
       " (128, 128, 128),\n",
       " (128, 128, 128),\n",
       " (128, 128, 128),\n",
       " (128, 128, 128),\n",
       " (128, 128, 128),\n",
       " (128, 128, 128),\n",
       " (128, 128, 128),\n",
       " (128, 128, 128),\n",
       " (128, 128, 128),\n",
       " (128, 128, 128),\n",
       " (128, 128, 128),\n",
       " (128, 128, 128),\n",
       " (128, 128, 128),\n",
       " (128, 128, 128),\n",
       " (128, 128, 128),\n",
       " (128, 128, 128),\n",
       " (128, 128, 128),\n",
       " (128, 128, 128),\n",
       " (128, 128, 128),\n",
       " (128, 128, 128),\n",
       " (128, 128, 128),\n",
       " (128, 128, 128),\n",
       " (128, 128, 128),\n",
       " (128, 128, 128),\n",
       " (128, 128, 128),\n",
       " (128, 128, 128),\n",
       " (128, 128, 128),\n",
       " (128, 128, 128),\n",
       " (128, 128, 128),\n",
       " (128, 128, 128),\n",
       " (128, 128, 128),\n",
       " (128, 128, 128),\n",
       " (128, 128, 128),\n",
       " (128, 128, 128),\n",
       " (128, 128, 128),\n",
       " (128, 128, 128),\n",
       " (128, 128, 128),\n",
       " (128, 128, 128),\n",
       " (128, 128, 128),\n",
       " (128, 128, 128),\n",
       " (128, 128, 128),\n",
       " (128, 128, 128),\n",
       " (128, 128, 128),\n",
       " (128, 128, 128),\n",
       " (128, 128, 128),\n",
       " (128, 128, 128),\n",
       " (128, 128, 128),\n",
       " (128, 128, 128),\n",
       " (128, 128, 128),\n",
       " (128, 128, 128),\n",
       " (128, 128, 128),\n",
       " (128, 128, 128),\n",
       " (128, 128, 128),\n",
       " (128, 128, 128),\n",
       " (128, 128, 128),\n",
       " (128, 128, 128),\n",
       " (128, 128, 128),\n",
       " (128, 128, 128),\n",
       " (128, 128, 128),\n",
       " (128, 128, 128),\n",
       " (128, 128, 128),\n",
       " (128, 128, 128),\n",
       " (128, 128, 128),\n",
       " (128, 128, 128),\n",
       " (128, 128, 128),\n",
       " (128, 128, 128),\n",
       " (128, 128, 128),\n",
       " (128, 128, 128),\n",
       " (128, 128, 128),\n",
       " (128, 128, 128),\n",
       " (128, 128, 128),\n",
       " (128, 128, 128),\n",
       " (128, 128, 128),\n",
       " (128, 128, 128),\n",
       " (128, 128, 128),\n",
       " (128, 128, 128),\n",
       " (128, 128, 128),\n",
       " (128, 128, 128),\n",
       " (128, 128, 128),\n",
       " (128, 128, 128),\n",
       " (128, 128, 128),\n",
       " (128, 128, 128),\n",
       " (128, 128, 128),\n",
       " (128, 128, 128),\n",
       " (128, 128, 128),\n",
       " (128, 128, 128),\n",
       " (128, 128, 128),\n",
       " (128, 128, 128),\n",
       " (128, 128, 128),\n",
       " (128, 128, 128),\n",
       " (128, 128, 128),\n",
       " (128, 128, 128),\n",
       " (128, 128, 128),\n",
       " (128, 128, 128),\n",
       " (128, 128, 128),\n",
       " (128, 128, 128),\n",
       " (128, 128, 128),\n",
       " (128, 128, 128),\n",
       " (128, 128, 128),\n",
       " (128, 128, 128),\n",
       " (128, 128, 128),\n",
       " (128, 128, 128),\n",
       " (128, 128, 128),\n",
       " (128, 128, 128),\n",
       " (128, 128, 128),\n",
       " (128, 128, 128),\n",
       " (128, 128, 128),\n",
       " (128, 128, 128),\n",
       " (128, 128, 128),\n",
       " (128, 128, 128),\n",
       " (128, 128, 128),\n",
       " (128, 128, 128),\n",
       " (128, 128, 128),\n",
       " (128, 128, 128),\n",
       " (128, 128, 128),\n",
       " (128, 128, 128),\n",
       " (128, 128, 128),\n",
       " (128, 128, 128),\n",
       " (128, 128, 128),\n",
       " (128, 128, 128),\n",
       " (128, 128, 128),\n",
       " (128, 128, 128),\n",
       " (128, 128, 128),\n",
       " (128, 128, 128),\n",
       " (128, 128, 128),\n",
       " (128, 128, 128),\n",
       " (128, 128, 128),\n",
       " (128, 128, 128),\n",
       " (128, 128, 128),\n",
       " (128, 128, 128),\n",
       " (128, 128, 128),\n",
       " (128, 128, 128),\n",
       " (128, 128, 128),\n",
       " (128, 128, 128),\n",
       " (128, 128, 128),\n",
       " (128, 128, 128),\n",
       " (128, 128, 128),\n",
       " (128, 128, 128),\n",
       " (128, 128, 128),\n",
       " (128, 128, 128),\n",
       " (128, 128, 128),\n",
       " (128, 128, 128),\n",
       " (128, 128, 128),\n",
       " (128, 128, 128),\n",
       " (128, 128, 128),\n",
       " (128, 128, 128),\n",
       " (128, 128, 128),\n",
       " (128, 128, 128),\n",
       " (128, 128, 128),\n",
       " (128, 128, 128),\n",
       " (128, 128, 128),\n",
       " (128, 128, 128),\n",
       " (128, 128, 128),\n",
       " (128, 128, 128),\n",
       " (128, 128, 128),\n",
       " (128, 128, 128),\n",
       " (128, 128, 128),\n",
       " (128, 128, 128),\n",
       " (128, 128, 128),\n",
       " (128, 128, 128),\n",
       " (128, 128, 128),\n",
       " (128, 128, 128),\n",
       " (128, 128, 128),\n",
       " (128, 128, 128),\n",
       " (128, 128, 128),\n",
       " (128, 128, 128),\n",
       " (128, 128, 128),\n",
       " (128, 128, 128),\n",
       " (128, 128, 128),\n",
       " (128, 128, 128),\n",
       " (128, 128, 128),\n",
       " (128, 128, 128),\n",
       " (128, 128, 128),\n",
       " (128, 128, 128),\n",
       " (128, 128, 128),\n",
       " (128, 128, 128),\n",
       " (128, 128, 128),\n",
       " (128, 128, 128),\n",
       " (128, 128, 128),\n",
       " (128, 128, 128),\n",
       " (128, 128, 128),\n",
       " (128, 128, 128),\n",
       " (128, 128, 128),\n",
       " (128, 128, 128),\n",
       " (128, 128, 128),\n",
       " (128, 128, 128),\n",
       " (128, 128, 128),\n",
       " (128, 128, 128),\n",
       " (128, 128, 128),\n",
       " (128, 128, 128),\n",
       " (128, 128, 128),\n",
       " (128, 128, 128),\n",
       " (128, 128, 128),\n",
       " (128, 128, 128),\n",
       " (128, 128, 128),\n",
       " (128, 128, 128),\n",
       " (128, 128, 128),\n",
       " (128, 128, 128),\n",
       " (128, 128, 128)]"
      ]
     },
     "execution_count": 11,
     "metadata": {},
     "output_type": "execute_result"
    }
   ],
   "source": [
    "label_sizes"
   ]
  },
  {
   "cell_type": "markdown",
   "metadata": {},
   "source": [
    "# Test Codes\n",
    "\n",
    "## Testing One Case"
   ]
  },
  {
   "cell_type": "code",
   "execution_count": 64,
   "metadata": {},
   "outputs": [],
   "source": [
    "img = np.load(get_image_path('000251_20190703_chest.npy'))"
   ]
  },
  {
   "cell_type": "code",
   "execution_count": 73,
   "metadata": {},
   "outputs": [],
   "source": [
    "cropper = CropForeground()"
   ]
  },
  {
   "cell_type": "code",
   "execution_count": 78,
   "metadata": {},
   "outputs": [
    {
     "data": {
      "text/plain": [
       "(array([ 0, 58,  0]), array([297, 512, 512]))"
      ]
     },
     "execution_count": 78,
     "metadata": {},
     "output_type": "execute_result"
    }
   ],
   "source": [
    "cropper.compute_bounding_box(img[np.newaxis,:])"
   ]
  },
  {
   "cell_type": "code",
   "execution_count": 79,
   "metadata": {},
   "outputs": [
    {
     "data": {
      "text/plain": [
       "(297, 454, 512)"
      ]
     },
     "execution_count": 79,
     "metadata": {},
     "output_type": "execute_result"
    }
   ],
   "source": [
    "cropper(img).shape"
   ]
  },
  {
   "cell_type": "code",
   "execution_count": 89,
   "metadata": {},
   "outputs": [],
   "source": [
    "import time"
   ]
  },
  {
   "cell_type": "code",
   "execution_count": 90,
   "metadata": {},
   "outputs": [
    {
     "name": "stdout",
     "output_type": "stream",
     "text": [
      "\n",
      "consumed_time: 1.6059333749872167s\n",
      "\n"
     ]
    }
   ],
   "source": [
    "t = time.perf_counter()\n",
    "\n",
    "resampled_image = resample_all_1mm(img, ct_info.resolution[0])\n",
    "\n",
    "elapsed_time = time.perf_counter() - t\n",
    "\n",
    "print(f'''\n",
    "consumed_time: {elapsed_time}s\n",
    "''')"
   ]
  },
  {
   "cell_type": "code",
   "execution_count": 53,
   "metadata": {},
   "outputs": [
    {
     "data": {
      "text/plain": [
       "(297, 512, 512)"
      ]
     },
     "execution_count": 53,
     "metadata": {},
     "output_type": "execute_result"
    }
   ],
   "source": [
    "img.shape"
   ]
  },
  {
   "cell_type": "code",
   "execution_count": 54,
   "metadata": {},
   "outputs": [
    {
     "data": {
      "text/plain": [
       "(297, 287, 287)"
      ]
     },
     "execution_count": 54,
     "metadata": {},
     "output_type": "execute_result"
    }
   ],
   "source": [
    "resampled_image.shape"
   ]
  },
  {
   "cell_type": "code",
   "execution_count": 56,
   "metadata": {},
   "outputs": [],
   "source": [
    "label = np.load(get_label_path('000251_20190703_chest.npy'))"
   ]
  },
  {
   "cell_type": "code",
   "execution_count": 57,
   "metadata": {},
   "outputs": [],
   "source": [
    "resampled_label = resample_all_1mm(label, ct_info.resolution[0])"
   ]
  },
  {
   "cell_type": "code",
   "execution_count": 77,
   "metadata": {},
   "outputs": [
    {
     "data": {
      "text/plain": [
       "0"
      ]
     },
     "execution_count": 77,
     "metadata": {},
     "output_type": "execute_result"
    }
   ],
   "source": [
    "adjust_window(resampled_image, [700,100]).astype(np.int32).min()"
   ]
  },
  {
   "cell_type": "code",
   "execution_count": null,
   "metadata": {
    "scrolled": false
   },
   "outputs": [],
   "source": [
    "plot_image_and_label(adjust_window(resampled_image, [700,100]).astype(np.int32), (resampled_label>0).astype(np.uint8))"
   ]
  },
  {
   "cell_type": "code",
   "execution_count": 29,
   "metadata": {},
   "outputs": [],
   "source": [
    "from monai.transforms import Rand3DElastic\n",
    "sample_np_image = dcm_to_numpy(cases[0], dcm_base_dir) # npy 로 변환한 3D 이미지 하나 입니다\n",
    "sample_label = np.load('/workspace/BoneMeta_new/labels/{}.npy'.format(cases[0]))\n",
    "elastic_deform = Rand3DElastic(sigma_range=(35,35), magnitude_range=(10,10), prob=1.0, rotate_range=0, shear_range=0)\n",
    "deformed_image = elastic_deform(sample_np_image)\n"
   ]
  },
  {
   "cell_type": "markdown",
   "metadata": {},
   "source": [
    "## Testing All Sizes"
   ]
  },
  {
   "cell_type": "code",
   "execution_count": 114,
   "metadata": {},
   "outputs": [],
   "source": [
    "file_names = os.listdir(all_1mm_image_dir)"
   ]
  },
  {
   "cell_type": "code",
   "execution_count": 115,
   "metadata": {},
   "outputs": [],
   "source": [
    "image_sizes = [np.load(os.path.join(all_1mm_image_dir, file)).shape for file in file_names]\n",
    "label_sizes = [np.load(os.path.join(all_1mm_label_dir, file)).shape for file in file_names]"
   ]
  },
  {
   "cell_type": "code",
   "execution_count": 116,
   "metadata": {},
   "outputs": [
    {
     "data": {
      "text/plain": [
       "True"
      ]
     },
     "execution_count": 116,
     "metadata": {},
     "output_type": "execute_result"
    }
   ],
   "source": [
    "image_sizes == label_sizes"
   ]
  },
  {
   "cell_type": "code",
   "execution_count": null,
   "metadata": {},
   "outputs": [],
   "source": [
    "plot_image_and_label(np.load(os.path.join(all_1mm_image_dir, file_names[5])), np.load(os.path.join(all_1mm_label_dir, file_names[5])))"
   ]
  },
  {
   "cell_type": "code",
   "execution_count": null,
   "metadata": {},
   "outputs": [],
   "source": []
  }
 ],
 "metadata": {
  "colab": {
   "collapsed_sections": [
    "TzNPrUS4_fm0",
    "cTCM0A09AzDn",
    "yNWBAqePCwZ0"
   ],
   "name": "CropAndPaste.ipynb",
   "version": ""
  },
  "kernelspec": {
   "display_name": "Python 3 (ipykernel)",
   "language": "python",
   "name": "python3"
  },
  "language_info": {
   "codemirror_mode": {
    "name": "ipython",
    "version": 3
   },
   "file_extension": ".py",
   "mimetype": "text/x-python",
   "name": "python",
   "nbconvert_exporter": "python",
   "pygments_lexer": "ipython3",
   "version": "3.9.5"
  }
 },
 "nbformat": 4,
 "nbformat_minor": 1
}
