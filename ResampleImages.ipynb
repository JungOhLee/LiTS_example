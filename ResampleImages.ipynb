{
  "cells": [
    {
      "cell_type": "code",
      "source": [
        "from google.colab import drive\n",
        "drive.mount('/gdrive')"
      ],
      "metadata": {
        "id": "MQkum7wOUmVL",
        "outputId": "c1845ad0-a826-4122-8399-c738f92e0812",
        "colab": {
          "base_uri": "https://localhost:8080/"
        }
      },
      "execution_count": 2,
      "outputs": [
        {
          "output_type": "stream",
          "name": "stdout",
          "text": [
            "Mounted at /gdrive\n"
          ]
        }
      ]
    },
    {
      "cell_type": "code",
      "execution_count": 3,
      "metadata": {
        "colab": {
          "base_uri": "https://localhost:8080/"
        },
        "id": "o5cCOuc-AZ06",
        "outputId": "85a24e7d-57de-48d6-97be-116131484b42",
        "scrolled": false
      },
      "outputs": [
        {
          "output_type": "stream",
          "name": "stdout",
          "text": [
            "Looking in indexes: https://pypi.org/simple, https://us-python.pkg.dev/colab-wheels/public/simple/\n",
            "Collecting monai\n",
            "  Downloading monai-1.1.0-202212191849-py3-none-any.whl (1.2 MB)\n",
            "\u001b[2K     \u001b[90m━━━━━━━━━━━━━━━━━━━━━━━━━━━━━━━━━━━━━━━━\u001b[0m \u001b[32m1.2/1.2 MB\u001b[0m \u001b[31m25.8 MB/s\u001b[0m eta \u001b[36m0:00:00\u001b[0m\n",
            "\u001b[?25hRequirement already satisfied: numpy>=1.17 in /usr/local/lib/python3.8/dist-packages (from monai) (1.21.6)\n",
            "Requirement already satisfied: torch>=1.8 in /usr/local/lib/python3.8/dist-packages (from monai) (1.13.1+cu116)\n",
            "Requirement already satisfied: typing-extensions in /usr/local/lib/python3.8/dist-packages (from torch>=1.8->monai) (4.4.0)\n",
            "Installing collected packages: monai\n",
            "Successfully installed monai-1.1.0\n",
            "Looking in indexes: https://pypi.org/simple, https://us-python.pkg.dev/colab-wheels/public/simple/\n",
            "Requirement already satisfied: nibabel in /usr/local/lib/python3.8/dist-packages (3.0.2)\n",
            "Requirement already satisfied: numpy>=1.12 in /usr/local/lib/python3.8/dist-packages (from nibabel) (1.21.6)\n",
            "Looking in indexes: https://pypi.org/simple, https://us-python.pkg.dev/colab-wheels/public/simple/\n",
            "Collecting SimpleITK\n",
            "  Downloading SimpleITK-2.2.1-cp38-cp38-manylinux_2_17_x86_64.manylinux2014_x86_64.whl (52.7 MB)\n",
            "\u001b[2K     \u001b[90m━━━━━━━━━━━━━━━━━━━━━━━━━━━━━━━━━━━━━━━━\u001b[0m \u001b[32m52.7/52.7 MB\u001b[0m \u001b[31m14.5 MB/s\u001b[0m eta \u001b[36m0:00:00\u001b[0m\n",
            "\u001b[?25hInstalling collected packages: SimpleITK\n",
            "Successfully installed SimpleITK-2.2.1\n"
          ]
        }
      ],
      "source": [
        "!pip install monai\n",
        "!pip install nibabel\n",
        "!pip install SimpleITK"
      ]
    },
    {
      "cell_type": "code",
      "execution_count": 4,
      "metadata": {
        "id": "3bueKckSvS9t"
      },
      "outputs": [],
      "source": [
        "import os\n",
        "import numpy as np\n",
        "import glob\n",
        "import matplotlib.pyplot as plt\n",
        "import nibabel as nib\n",
        "from monai.transforms import Spacing\n",
        "from monai.transforms import SpatialPad\n",
        "from monai.transforms import Resize\n",
        "from monai.transforms import CropForeground\n",
        "\n",
        "import time\n",
        "import torch"
      ]
    },
    {
      "cell_type": "code",
      "execution_count": 5,
      "metadata": {
        "id": "R-pbV0BnULL-",
        "outputId": "a88ec662-1e75-4c61-dc84-e7cb151436a2",
        "colab": {
          "base_uri": "https://localhost:8080/"
        }
      },
      "outputs": [
        {
          "output_type": "stream",
          "name": "stdout",
          "text": [
            "/content\n"
          ]
        }
      ],
      "source": [
        "!pwd"
      ]
    },
    {
      "cell_type": "code",
      "execution_count": 6,
      "metadata": {
        "colab": {
          "base_uri": "https://localhost:8080/"
        },
        "id": "bpDy7SMqq2n2",
        "outputId": "b827816d-17bb-4b29-8870-b3f3d915b1ae"
      },
      "outputs": [
        {
          "output_type": "execute_result",
          "data": {
            "text/plain": [
              "2"
            ]
          },
          "metadata": {},
          "execution_count": 6
        }
      ],
      "source": [
        "os.cpu_count()"
      ]
    },
    {
      "cell_type": "markdown",
      "metadata": {
        "id": "k17jNW1NULL-"
      },
      "source": [
        "# Load Image and Label"
      ]
    },
    {
      "cell_type": "code",
      "source": [
        "!ls /gdrive/MyDrive/LiTS_sample"
      ],
      "metadata": {
        "id": "1kJx9v7zVnNv",
        "outputId": "1384b4e4-1a99-4304-a3c3-82cba6f3f853",
        "colab": {
          "base_uri": "https://localhost:8080/"
        }
      },
      "execution_count": 7,
      "outputs": [
        {
          "output_type": "stream",
          "name": "stdout",
          "text": [
            "archive.zip  image_128\t logs  mask_128   models  preds_128\n",
            "image\t     image_crop  mask  mask_crop  preds\n"
          ]
        }
      ]
    },
    {
      "cell_type": "markdown",
      "metadata": {
        "id": "KgEaci8eULMB"
      },
      "source": [
        "## Resample all same size"
      ]
    },
    {
      "cell_type": "code",
      "execution_count": 8,
      "metadata": {
        "scrolled": true,
        "id": "hO0nDIcWULMB",
        "outputId": "54a88731-cfab-462a-9591-4ae136fd2a47",
        "colab": {
          "base_uri": "https://localhost:8080/"
        }
      },
      "outputs": [
        {
          "output_type": "stream",
          "name": "stdout",
          "text": [
            "sample_data\n"
          ]
        }
      ],
      "source": [
        "!ls $image_data_dir"
      ]
    },
    {
      "cell_type": "code",
      "execution_count": 22,
      "metadata": {
        "id": "3L2hQmqzULMB"
      },
      "outputs": [],
      "source": [
        "from multiprocessing import Pool\n",
        "\n",
        "class Resampler:\n",
        "    def __init__(self, origin_dir, target_dir, resample_size, is_label=False):\n",
        "        self.origin_dir, self.target_dir, self.resample_size, self.is_label = origin_dir, target_dir, resample_size, is_label\n",
        "\n",
        "    def save_np(self, np_image, target_dir, file_name):\n",
        "        if self.is_label:\n",
        "            np_image = (np_image>0.5).astype(np.uint8)            \n",
        "        else:\n",
        "            np_image = np_image.astype(np.int16)\n",
        "        np.save(os.path.join(target_dir, file_name), np_image)\n",
        "\n",
        "    def resize(self, np_image): \n",
        "        if self.is_label:\n",
        "            np_image = np_image > 1\n",
        "        resizer = Resize(self.resample_size)\n",
        "        resized_image = resizer(np_image[np.newaxis,:]) # with channel\n",
        "        return resized_image[0] # without channel\n",
        "\n",
        "    def resample(self, file, origin_dir, target_dir, resample_func, save_func):\n",
        "        # # load npy\n",
        "        np_file = np.load(os.path.join(origin_dir, file), allow_pickle=True)\n",
        "        # load nifti\n",
        "        # np_file = nib.load(os.path.join(origin_dir, file)).get_fdata()\n",
        "        resampled_image = resample_func(np_file)\n",
        "        save_func(resampled_image, target_dir, file)\n",
        "\n",
        "    def wrapper(self, args):\n",
        "        return self.resample(*args)\n",
        "\n",
        "    def resample_all(self):\n",
        "        os.makedirs(self.target_dir, exist_ok=True)\n",
        "\n",
        "        t = time.perf_counter()\n",
        "\n",
        "        file_list = os.listdir(self.origin_dir)\n",
        "        arg_list = [(file, self.origin_dir, self.target_dir, self.resize, self.save_np) for file in file_list]\n",
        "        pool = Pool(processes=2)\n",
        "        pool.map(self.wrapper, arg_list)\n",
        "        pool.close()\n",
        "        pool.join()\n",
        "\n",
        "        elapsed_time = time.perf_counter() - t\n",
        "\n",
        "        print(f'''\n",
        "        consumed_time: {elapsed_time}s\n",
        "        ''')\n",
        "\n",
        "class MultiChResampler:\n",
        "    def __init__(self, origin_dir, target_dir, resample_size, is_label=False):\n",
        "        self.origin_dir, self.target_dir, self.resample_size, self.is_label = origin_dir, target_dir, resample_size, is_label\n",
        "\n",
        "    def save_np(self, np_image, target_dir, file_name):\n",
        "        if self.is_label:\n",
        "            np_image = np_image.astype(np.uint8)            \n",
        "        else:\n",
        "            np_image = np_image.astype(np.int16)\n",
        "        \n",
        "        # For torch order\n",
        "        np_image = np.flip(np_image.transpose([2,1,0]), axis=(1,2))\n",
        "        np.save(os.path.join(target_dir, file_name), np_image) \n",
        "\n",
        "    def resize(self, np_image): \n",
        "        if self.is_label:\n",
        "            resizer = Resize(self.resample_size, mode='nearest')\n",
        "        else: \n",
        "            resizer = Resize(self.resample_size)\n",
        "        resized_image = resizer(np_image[np.newaxis,:]) # with channel\n",
        "        return resized_image[0] # without channel\n",
        "\n",
        "    def resample(self, file, origin_dir, target_dir, resample_func, save_func):\n",
        "        # # load npy\n",
        "        # np_file = np.load(os.path.join(origin_dir, file))\n",
        "        # load nifti\n",
        "        np_file = nib.load(os.path.join(origin_dir, file)).get_fdata()\n",
        "        resampled_image = resample_func(np_file)\n",
        "        save_func(resampled_image, target_dir, file)\n",
        "\n",
        "    def wrapper(self, args):\n",
        "        return self.resample(*args)\n",
        "\n",
        "    def resample_all(self):\n",
        "        os.makedirs(self.target_dir, exist_ok=True)\n",
        "\n",
        "        t = time.perf_counter()\n",
        "\n",
        "        file_list = os.listdir(self.origin_dir)\n",
        "        arg_list = [(file, self.origin_dir, self.target_dir, self.resize, self.save_np) for file in file_list]\n",
        "        pool = Pool(processes=os.cpu_count())\n",
        "        pool.map(self.wrapper, arg_list)\n",
        "        pool.close()\n",
        "        pool.join()\n",
        "\n",
        "        elapsed_time = time.perf_counter() - t\n",
        "\n",
        "        print(f'''\n",
        "        consumed_time: {elapsed_time}s\n",
        "        ''')"
      ]
    },
    {
      "cell_type": "code",
      "execution_count": 18,
      "metadata": {
        "id": "yzh0d1qUULMB"
      },
      "outputs": [],
      "source": [
        "source_dir = '/gdrive/MyDrive/LiTS_sample/image'\n",
        "target_dir = '/gdrive/MyDrive/LiTS_sample/image_128'\n",
        "\n",
        "source_dir_lb = '/gdrive/MyDrive/LiTS_sample/mask'\n",
        "target_dir_lb = '/gdrive/MyDrive/LiTS_sample/mask_128'\n",
        "\n",
        "target_shape = [128,128,128]\n",
        "\n",
        "image_resampler = MultiChResampler(source_dir, target_dir, target_shape)\n",
        "label_resampler_1 = MultiChResampler(source_dir_lb, target_dir_lb, target_shape, True)"
      ]
    },
    {
      "cell_type": "code",
      "source": [
        "image_resampler.resample_all()"
      ],
      "metadata": {
        "id": "IvpO0lN3ktNK",
        "outputId": "f8166983-9692-468c-ff40-ac850faaeaa8",
        "colab": {
          "base_uri": "https://localhost:8080/"
        }
      },
      "execution_count": null,
      "outputs": [
        {
          "output_type": "stream",
          "name": "stdout",
          "text": [
            "\n",
            "        consumed_time: 343.88992797100036s\n",
            "        \n"
          ]
        }
      ]
    },
    {
      "cell_type": "code",
      "source": [
        "label_resampler_1.resample_all()"
      ],
      "metadata": {
        "colab": {
          "base_uri": "https://localhost:8080/"
        },
        "id": "CnyMOBtzxFFl",
        "outputId": "a1816272-66a9-4b34-8980-6267b0803f26"
      },
      "execution_count": null,
      "outputs": [
        {
          "output_type": "stream",
          "name": "stdout",
          "text": [
            "\n",
            "        consumed_time: 305.358029944s\n",
            "        \n"
          ]
        }
      ]
    },
    {
      "cell_type": "code",
      "source": [
        "file_names = os.listdir(target_dir)\n",
        "new_file_names = [file_name.split('.')[0] + '.npy' for file_name in file_names]"
      ],
      "metadata": {
        "id": "ch4q4cm40ZEl"
      },
      "execution_count": null,
      "outputs": []
    },
    {
      "cell_type": "code",
      "source": [
        "for (old_file, new_file) in zip(file_names, new_file_names): \n",
        "  old_path = os.path.join(target_dir, old_file)\n",
        "  new_path = os.path.join(target_dir, new_file)\n",
        "  os.rename(old_path, new_path)"
      ],
      "metadata": {
        "id": "XSJH9VeR0vJS"
      },
      "execution_count": null,
      "outputs": []
    },
    {
      "cell_type": "code",
      "source": [
        "print(len(os.listdir(target_dir)))\n",
        "os.listdir(target_dir)[:3]"
      ],
      "metadata": {
        "id": "9BrTuOit1u9r",
        "outputId": "3cdf397d-fd65-4390-eccc-23726df2ad18",
        "colab": {
          "base_uri": "https://localhost:8080/"
        }
      },
      "execution_count": null,
      "outputs": [
        {
          "output_type": "stream",
          "name": "stdout",
          "text": [
            "51\n"
          ]
        },
        {
          "output_type": "execute_result",
          "data": {
            "text/plain": [
              "['volume-0.npy', 'volume-1.npy', 'volume-6.npy']"
            ]
          },
          "metadata": {},
          "execution_count": 38
        }
      ]
    },
    {
      "cell_type": "code",
      "source": [
        "os.listdir(target_dir_lb)[:3]"
      ],
      "metadata": {
        "id": "-wfwwQ8E1zrk",
        "outputId": "c267e894-ee1d-4ccd-d4f6-7a9acc46d462",
        "colab": {
          "base_uri": "https://localhost:8080/"
        }
      },
      "execution_count": null,
      "outputs": [
        {
          "output_type": "execute_result",
          "data": {
            "text/plain": [
              "['segmentation-0.nii.npy', 'segmentation-1.nii.npy', 'segmentation-15.nii.npy']"
            ]
          },
          "metadata": {},
          "execution_count": 21
        }
      ]
    },
    {
      "cell_type": "code",
      "source": [
        "for i in range(51):\n",
        "  old_file = f\"segmentation-{i}.nii.npy\"\n",
        "  old_path = os.path.join(target_dir_lb, old_file)\n",
        "  new_file = f\"volume-{i}.npy\"\n",
        "  new_path = os.path.join(target_dir_lb, new_file)\n",
        "  os.rename(old_path, new_path)"
      ],
      "metadata": {
        "id": "TxBdLv8u19Vh"
      },
      "execution_count": null,
      "outputs": []
    },
    {
      "cell_type": "code",
      "execution_count": null,
      "metadata": {
        "id": "IhWR2dNUULMB"
      },
      "outputs": [],
      "source": [
        "file_names = os.listdir(target_dir)\n",
        "image_sizes = [np.load(os.path.join(target_dir, file)).shape for file in file_names]\n",
        "label_sizes = [np.load(os.path.join(target_dir_lb, file)).shape for file in file_names]"
      ]
    },
    {
      "cell_type": "code",
      "execution_count": null,
      "metadata": {
        "id": "O6pujEpXULMB",
        "colab": {
          "base_uri": "https://localhost:8080/"
        },
        "outputId": "470ce86d-241e-41dc-dbff-8f7adcec4593"
      },
      "outputs": [
        {
          "output_type": "execute_result",
          "data": {
            "text/plain": [
              "[(128, 128, 128),\n",
              " (128, 128, 128),\n",
              " (128, 128, 128),\n",
              " (128, 128, 128),\n",
              " (128, 128, 128),\n",
              " (128, 128, 128),\n",
              " (128, 128, 128),\n",
              " (128, 128, 128),\n",
              " (128, 128, 128),\n",
              " (128, 128, 128),\n",
              " (128, 128, 128),\n",
              " (128, 128, 128),\n",
              " (128, 128, 128),\n",
              " (128, 128, 128),\n",
              " (128, 128, 128),\n",
              " (128, 128, 128),\n",
              " (128, 128, 128),\n",
              " (128, 128, 128),\n",
              " (128, 128, 128),\n",
              " (128, 128, 128),\n",
              " (128, 128, 128),\n",
              " (128, 128, 128),\n",
              " (128, 128, 128),\n",
              " (128, 128, 128),\n",
              " (128, 128, 128),\n",
              " (128, 128, 128),\n",
              " (128, 128, 128),\n",
              " (128, 128, 128),\n",
              " (128, 128, 128),\n",
              " (128, 128, 128),\n",
              " (128, 128, 128),\n",
              " (128, 128, 128),\n",
              " (128, 128, 128),\n",
              " (128, 128, 128),\n",
              " (128, 128, 128),\n",
              " (128, 128, 128),\n",
              " (128, 128, 128),\n",
              " (128, 128, 128),\n",
              " (128, 128, 128),\n",
              " (128, 128, 128),\n",
              " (128, 128, 128),\n",
              " (128, 128, 128),\n",
              " (128, 128, 128),\n",
              " (128, 128, 128),\n",
              " (128, 128, 128),\n",
              " (128, 128, 128),\n",
              " (128, 128, 128),\n",
              " (128, 128, 128)]"
            ]
          },
          "metadata": {},
          "execution_count": 25
        }
      ],
      "source": [
        "label_sizes"
      ]
    },
    {
      "cell_type": "markdown",
      "metadata": {
        "id": "97E1An-dULMC"
      },
      "source": [
        "# Test Codes"
      ]
    },
    {
      "cell_type": "code",
      "source": [
        "180*180*96"
      ],
      "metadata": {
        "colab": {
          "base_uri": "https://localhost:8080/"
        },
        "id": "_VRbbcamgPHk",
        "outputId": "c9b93af9-d582-4f2f-9802-1fce4952bbe5"
      },
      "execution_count": 10,
      "outputs": [
        {
          "output_type": "execute_result",
          "data": {
            "text/plain": [
              "3110400"
            ]
          },
          "metadata": {},
          "execution_count": 10
        }
      ]
    },
    {
      "cell_type": "code",
      "source": [
        "source_dir = '/gdrive/MyDrive/LiTS_sample/image_crop'\n",
        "target_dir = '/gdrive/MyDrive/LiTS_sample/image_crop_180'\n",
        "\n",
        "source_dir_lb = '/gdrive/MyDrive/LiTS_sample/mask_crop'\n",
        "target_dir_lb = '/gdrive/MyDrive/LiTS_sample/mask_crop_180'\n",
        "\n",
        "target_shape = [96,180,180]\n",
        "\n",
        "image_resampler = Resampler(source_dir, target_dir, target_shape)\n",
        "label_resampler = Resampler(source_dir_lb, target_dir_lb, target_shape, True)"
      ],
      "metadata": {
        "id": "c9ZE05cRgF3n"
      },
      "execution_count": 27,
      "outputs": []
    },
    {
      "cell_type": "code",
      "source": [
        "image_resampler.resample_all()\n",
        "label_resampler.resample_all()"
      ],
      "metadata": {
        "colab": {
          "base_uri": "https://localhost:8080/"
        },
        "id": "bpJhOhVFhcoO",
        "outputId": "60490e8d-5773-4b6c-c92b-b510508262fd"
      },
      "execution_count": 28,
      "outputs": [
        {
          "output_type": "stream",
          "name": "stdout",
          "text": [
            "\n",
            "        consumed_time: 13.80966657600004s\n",
            "        \n",
            "\n",
            "        consumed_time: 28.51845971099999s\n",
            "        \n"
          ]
        }
      ]
    },
    {
      "cell_type": "code",
      "source": [],
      "metadata": {
        "id": "C5kaFiRliBGs"
      },
      "execution_count": 21,
      "outputs": []
    }
  ],
  "metadata": {
    "colab": {
      "collapsed_sections": [
        "TzNPrUS4_fm0",
        "cTCM0A09AzDn",
        "yNWBAqePCwZ0"
      ],
      "name": "CropAndPaste.ipynb",
      "provenance": []
    },
    "kernelspec": {
      "display_name": "Python 3 (ipykernel)",
      "language": "python",
      "name": "python3"
    },
    "language_info": {
      "codemirror_mode": {
        "name": "ipython",
        "version": 3
      },
      "file_extension": ".py",
      "mimetype": "text/x-python",
      "name": "python",
      "nbconvert_exporter": "python",
      "pygments_lexer": "ipython3",
      "version": "3.9.5"
    }
  },
  "nbformat": 4,
  "nbformat_minor": 0
}