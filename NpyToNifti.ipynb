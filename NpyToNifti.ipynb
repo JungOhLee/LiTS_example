{
 "cells": [
  {
   "cell_type": "code",
   "execution_count": 3,
   "id": "c0b5b97e",
   "metadata": {},
   "outputs": [],
   "source": [
    "import nibabel as nib\n",
    "import numpy as np\n",
    "from multiprocessing import Pool\n",
    "import os\n",
    "import time"
   ]
  },
  {
   "cell_type": "code",
   "execution_count": 4,
   "id": "2b94089b",
   "metadata": {},
   "outputs": [],
   "source": [
    "image_dir = '/workspace/BoneMeta_latest/images'\n",
    "# label_dir = '/workspace/BoneMeta_all_1mm/labels'\n",
    "target_image_dir = '/workspace/BoneMeta_latest/images_nii'\n",
    "# target_label_dir = '/workspace/BoneMeta_all_1mm/labels_nii'\n",
    "files = os.listdir(image_dir)"
   ]
  },
  {
   "cell_type": "code",
   "execution_count": 5,
   "id": "3c936feb",
   "metadata": {},
   "outputs": [],
   "source": [
    "def load_npy(source_dir, file_name):\n",
    "    file_path = os.path.join(source_dir, file_name)\n",
    "    npy_file = np.load(file_path)\n",
    "    return npy_file\n",
    "\n",
    "def to_nifti_name(file_name):\n",
    "    nifti_name = file_name.split('.')[0] + '.nii.gz'\n",
    "    return nifti_name\n",
    "\n",
    "def save_nifti(target_dir, nifti, file_name):\n",
    "    nifti_name = to_nifti_name(file_name)\n",
    "    save_path = os.path.join(target_dir, nifti_name)\n",
    "    nifti.to_filename(save_path)\n",
    "\n",
    "def convert_npy_to_nifti(args):\n",
    "    source_dir, target_dir, file = args\n",
    "    npy = load_npy(source_dir, file)\n",
    "    nifti = nib.Nifti1Image(npy, np.eye(4))\n",
    "    save_nifti(target_dir, nifti, file)"
   ]
  },
  {
   "cell_type": "code",
   "execution_count": 6,
   "id": "c96dee09",
   "metadata": {},
   "outputs": [],
   "source": [
    "def convert_all_npy_to_nifti(source_dir, target_dir):\n",
    "    os.makedirs(target_dir, exist_ok=True)\n",
    "\n",
    "    t = time.perf_counter()\n",
    "\n",
    "    file_list = os.listdir(source_dir)\n",
    "    arg_list = [(source_dir, target_dir, file) for file in file_list]\n",
    "    pool = Pool(processes=32)\n",
    "    pool.map(convert_npy_to_nifti, arg_list)\n",
    "    pool.close()\n",
    "    pool.join()\n",
    "\n",
    "    elapsed_time = time.perf_counter() - t\n",
    "\n",
    "    print(f'''\n",
    "    consumed_time: {elapsed_time}s\n",
    "    ''')"
   ]
  },
  {
   "cell_type": "code",
   "execution_count": 7,
   "id": "d61641ba",
   "metadata": {},
   "outputs": [
    {
     "name": "stdout",
     "output_type": "stream",
     "text": [
      "\n",
      "    consumed_time: 168.3352157450281s\n",
      "    \n"
     ]
    }
   ],
   "source": [
    "convert_all_npy_to_nifti(image_dir, target_image_dir)\n",
    "# convert_all_npy_to_nifti(label_dir, target_label_dir)"
   ]
  },
  {
   "cell_type": "code",
   "execution_count": null,
   "id": "b862dbfb",
   "metadata": {},
   "outputs": [],
   "source": [
    "TotalSegmentator -i ct.nii.gz -o segmentations"
   ]
  }
 ],
 "metadata": {
  "kernelspec": {
   "display_name": "Python 3 (ipykernel)",
   "language": "python",
   "name": "python3"
  },
  "language_info": {
   "codemirror_mode": {
    "name": "ipython",
    "version": 3
   },
   "file_extension": ".py",
   "mimetype": "text/x-python",
   "name": "python",
   "nbconvert_exporter": "python",
   "pygments_lexer": "ipython3",
   "version": "3.9.5"
  }
 },
 "nbformat": 4,
 "nbformat_minor": 5
}
