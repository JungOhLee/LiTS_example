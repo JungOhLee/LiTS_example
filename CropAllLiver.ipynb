{
  "cells": [
    {
      "cell_type": "markdown",
      "metadata": {
        "id": "view-in-github",
        "colab_type": "text"
      },
      "source": [
        "<a href=\"https://colab.research.google.com/github/JungOhLee/LiTS_example/blob/main/CropAllLiver.ipynb\" target=\"_parent\"><img src=\"https://colab.research.google.com/assets/colab-badge.svg\" alt=\"Open In Colab\"/></a>"
      ]
    },
    {
      "cell_type": "code",
      "execution_count": 1,
      "metadata": {
        "colab": {
          "base_uri": "https://localhost:8080/"
        },
        "id": "ACjCuE7fWENh",
        "outputId": "8edd1b88-90f6-4943-a7b2-1622e232cefd"
      },
      "outputs": [
        {
          "output_type": "stream",
          "name": "stdout",
          "text": [
            "Mounted at /gdrive\n"
          ]
        }
      ],
      "source": [
        "from google.colab import drive\n",
        "drive.mount('/gdrive')"
      ]
    },
    {
      "cell_type": "code",
      "execution_count": 2,
      "metadata": {
        "colab": {
          "base_uri": "https://localhost:8080/"
        },
        "id": "Vl7SuNTNWGHV",
        "outputId": "525c64db-da21-4501-e604-987f6f2e0396"
      },
      "outputs": [
        {
          "output_type": "stream",
          "name": "stdout",
          "text": [
            "Looking in indexes: https://pypi.org/simple, https://us-python.pkg.dev/colab-wheels/public/simple/\n",
            "Collecting monai\n",
            "  Downloading monai-1.1.0-202212191849-py3-none-any.whl (1.2 MB)\n",
            "\u001b[2K     \u001b[90m━━━━━━━━━━━━━━━━━━━━━━━━━━━━━━━━━━━━━━━━\u001b[0m \u001b[32m1.2/1.2 MB\u001b[0m \u001b[31m18.5 MB/s\u001b[0m eta \u001b[36m0:00:00\u001b[0m\n",
            "\u001b[?25hRequirement already satisfied: torch>=1.8 in /usr/local/lib/python3.8/dist-packages (from monai) (1.13.1+cu116)\n",
            "Requirement already satisfied: numpy>=1.17 in /usr/local/lib/python3.8/dist-packages (from monai) (1.21.6)\n",
            "Requirement already satisfied: typing-extensions in /usr/local/lib/python3.8/dist-packages (from torch>=1.8->monai) (4.4.0)\n",
            "Installing collected packages: monai\n",
            "Successfully installed monai-1.1.0\n",
            "Looking in indexes: https://pypi.org/simple, https://us-python.pkg.dev/colab-wheels/public/simple/\n",
            "Requirement already satisfied: nibabel in /usr/local/lib/python3.8/dist-packages (3.0.2)\n",
            "Requirement already satisfied: numpy>=1.12 in /usr/local/lib/python3.8/dist-packages (from nibabel) (1.21.6)\n",
            "Looking in indexes: https://pypi.org/simple, https://us-python.pkg.dev/colab-wheels/public/simple/\n",
            "Collecting SimpleITK\n",
            "  Downloading SimpleITK-2.2.1-cp38-cp38-manylinux_2_17_x86_64.manylinux2014_x86_64.whl (52.7 MB)\n",
            "\u001b[2K     \u001b[90m━━━━━━━━━━━━━━━━━━━━━━━━━━━━━━━━━━━━━━━━\u001b[0m \u001b[32m52.7/52.7 MB\u001b[0m \u001b[31m31.5 MB/s\u001b[0m eta \u001b[36m0:00:00\u001b[0m\n",
            "\u001b[?25hInstalling collected packages: SimpleITK\n",
            "Successfully installed SimpleITK-2.2.1\n"
          ]
        }
      ],
      "source": [
        "!pip install monai\n",
        "!pip install nibabel\n",
        "!pip install SimpleITK"
      ]
    },
    {
      "cell_type": "code",
      "execution_count": 3,
      "metadata": {
        "id": "zErNnlN8YskX"
      },
      "outputs": [],
      "source": [
        "import os\n",
        "import SimpleITK as sitk\n",
        "import numpy as np\n",
        "import glob\n",
        "import matplotlib.pyplot as plt\n",
        "import pandas as pd\n",
        "\n",
        "import nibabel\n",
        "from monai.transforms import Resize\n",
        "\n",
        "import time"
      ]
    },
    {
      "cell_type": "code",
      "execution_count": 4,
      "metadata": {
        "id": "CFp4Q580V825"
      },
      "outputs": [],
      "source": [
        "from monai.transforms import CropForeground\n",
        "import nibabel as nib"
      ]
    },
    {
      "cell_type": "code",
      "execution_count": 5,
      "metadata": {
        "id": "FwsrQDzRZLU2"
      },
      "outputs": [],
      "source": [
        "import matplotlib.pyplot as plt\n",
        "from skimage import color\n",
        "\n",
        "def slice_img(img, offset, end, interval):\n",
        "  if end is None:\n",
        "    end = len(img)\n",
        "  else: \n",
        "    if end > len(img): \n",
        "      end = len(img)\n",
        "    if end <= offset:\n",
        "      end = offset + 1\n",
        "  return img[offset:end:interval]\n",
        "\n",
        "def show_numpy_img(np_img, offset=0, end=None, interval=5, title=''): \n",
        "  sliced_img = slice_img(np_img, offset, end, interval)\n",
        "\n",
        "  figsize_per_img = 3\n",
        "  num_col = 5\n",
        "  num_row = int(np.ceil(sliced_img.shape[0] / num_col))\n",
        "  # fig, axs = plt.subplots(num_row, num_col, figsize = (figsize_per_img*num_col, figsize_per_img*num_row))\n",
        "  plt.figure(figsize=(figsize_per_img*num_col, figsize_per_img*num_row))\n",
        "  for i, img in enumerate(sliced_img):\n",
        "    if i >= num_col*num_row:\n",
        "      continue\n",
        "    # axs[i].imshow(img)\n",
        "    plt.subplot(num_row, num_col, i+1)\n",
        "    plt.imshow(img, 'gray')\n",
        "    # plt.title()\n",
        "  plt.suptitle(title)\n",
        "  plt.tight_layout()\n",
        "  plt.show()\n",
        "\n",
        "#npy image 정보 보여주기 \n",
        "def show_img_info(np_img):\n",
        "  print('Shape:', np_img.shape)\n",
        "  print('DType:', np_img.dtype)\n",
        "  print('Max:', np_img.max())\n",
        "  print('Min:', np_img.min())\n",
        "  print(np_img)\n",
        "\n",
        "\n",
        "#npy image, npy label \n",
        "#image, label 동시에 그려줌\n",
        "def plot_img_and_label(np_img, label, interval = 5, offset = 0, end=None, figsize_per_image = 5):\n",
        "  sliced_img = slice_img(np_img, offset, end, interval)\n",
        "  sliced_label = slice_img(label, offset, end, interval)\n",
        "  \n",
        "  num_row = len(sliced_img)\n",
        "  num_col = 2\n",
        "\n",
        "  f = plt.figure(figsize=(figsize_per_image*num_col, figsize_per_image*num_row))\n",
        "\n",
        "  for i in range(0, num_row):\n",
        "    plt.subplot(num_row, num_col, i*num_col+1)\n",
        "    tissue_image = sliced_img[i]\n",
        "    plt.imshow(tissue_image, 'gray')\n",
        "\n",
        "    plt.subplot(num_row, num_col, i*num_col+2)\n",
        "    mask = sliced_label[i]\n",
        "    # # Method with SimpleITK\n",
        "    # label_on_tissue = sitk.LabelMapContourOverlay(sitk.Cast(sitk.GetImageFromArray(mask), sitk.sitkLabelUInt8), sitk.GetImageFromArray(tissue_image), opacity=0.7, contourThickness=[2,2], colormap=(0,255,0))\n",
        "    # plt.imshow(sitk.GetArrayFromImage(label_on_tissue), 'gray')\n",
        "    # Method with skimage\n",
        "    label_on_tissue = color.label2rgb(mask,tissue_image, bg_label=0)\n",
        "    plt.imshow(label_on_tissue)\n",
        "\n",
        "  plt.tight_layout()\n",
        "#   plt.show()\n",
        "  return f"
      ]
    },
    {
      "cell_type": "code",
      "execution_count": 6,
      "metadata": {
        "id": "y9OlCxfeZOrb"
      },
      "outputs": [],
      "source": [
        "def plot_img_label_pred(image_npy, label_npy, pred_npy, interval = 5, offset = 0, end=None, figsize_per_image = 5, show_only_positive = False):\n",
        "    sliced_img = slice_img(image_npy, offset, end, interval)\n",
        "    sliced_label = slice_img(label_npy, offset, end, interval)\n",
        "    sliced_pred = slice_img(pred_npy, offset, end, interval)\n",
        "\n",
        "    if show_only_positive:\n",
        "        positive_idx = (sliced_label + sliced_pred).sum(axis = (1,2)) > 0.5\n",
        "        sliced_img = sliced_img[positive_idx]\n",
        "        sliced_label = sliced_label[positive_idx]\n",
        "        sliced_pred = sliced_pred[positive_idx]\n",
        "    \n",
        "    num_row = len(sliced_img)\n",
        "    num_col = 3\n",
        "    \n",
        "    plt.figure(figsize=(figsize_per_image*num_col, figsize_per_image*num_row))\n",
        "\n",
        "    for i in range(0, num_row):\n",
        "        plt.subplot(num_row, num_col, i*num_col+1)\n",
        "        tissue_image = sliced_img[i]\n",
        "        plt.imshow(tissue_image, 'gray')\n",
        "\n",
        "        plt.subplot(num_row, num_col, i*num_col+2)\n",
        "        mask = sliced_label[i]\n",
        "        label_on_tissue = color.label2rgb(mask,tissue_image, bg_label=0)\n",
        "        # label_on_tissue = sitk.LabelMapContourOverlay(sitk.Cast(sitk.GetImageFromArray(mask), sitk.sitkLabelUInt8), sitk.GetImageFromArray(tissue_image), opacity=0.7, contourThickness=[2,2], colormap=(0,255,0))\n",
        "        plt.imshow(label_on_tissue)\n",
        "        \n",
        "        plt.subplot(num_row, num_col, i*num_col+3)\n",
        "        mask = sliced_pred[i]\n",
        "        pred_on_tissue = color.label2rgb(mask,tissue_image, bg_label=0)\n",
        "        # pred_on_tissue = sitk.LabelMapContourOverlay(sitk.Cast(sitk.GetImageFromArray(mask), sitk.sitkLabelUInt8), sitk.GetImageFromArray(tissue_image), opacity=0.7, contourThickness=[2,2], colormap=(255,0,0))\n",
        "        plt.imshow(pred_on_tissue)\n",
        "\n",
        "    plt.tight_layout()\n",
        "    plt.show()"
      ]
    },
    {
      "cell_type": "code",
      "execution_count": 7,
      "metadata": {
        "id": "Z767EfUnWTyy"
      },
      "outputs": [],
      "source": [
        "pred_dir = '/gdrive/MyDrive/LiTS_sample/preds'\n",
        "image_dir = '/gdrive/MyDrive/LiTS_sample/image'\n",
        "label_dir = '/gdrive/MyDrive/LiTS_sample/mask'\n",
        "\n",
        "image_crop_dir = '/gdrive/MyDrive/LiTS_sample/image_crop'\n",
        "label_crop_dir = '/gdrive/MyDrive/LiTS_sample/mask_crop'"
      ]
    },
    {
      "cell_type": "code",
      "execution_count": 8,
      "metadata": {
        "id": "aekWLeyJakpW"
      },
      "outputs": [],
      "source": [
        "def get_image_by_idx(i):\n",
        "  nifti_file = nib.load(os.path.join(image_dir, f'volume-{i}.nii'))\n",
        "  img = nifti_file.get_fdata()\n",
        "  return img\n",
        "\n",
        "def get_pred_by_idx(i):\n",
        "  return np.load(os.path.join(pred_dir, f'volume-{i}.npy'))\n",
        "  \n",
        "def get_label_by_idx(i):\n",
        "  nifti_file = nib.load(os.path.join(label_dir, f'segmentation-{i}.nii'))\n",
        "  img = nifti_file.get_fdata()\n",
        "  return img\n"
      ]
    },
    {
      "cell_type": "code",
      "execution_count": 9,
      "metadata": {
        "id": "zzrZZXHScJZ_"
      },
      "outputs": [],
      "source": [
        "def adjust_window(image, window):\n",
        "    width = window[0]\n",
        "    level = window[1]\n",
        "    upper = level+width/2\n",
        "    lower = level-width/2\n",
        "    copied_image = image.clip(lower, upper)\n",
        "    copied_image = copied_image-lower\n",
        "    return (copied_image/(upper-lower))"
      ]
    },
    {
      "cell_type": "code",
      "execution_count": null,
      "metadata": {
        "id": "vQ3uB1LzcrSX"
      },
      "outputs": [],
      "source": [
        "# i = 2\n",
        "# image = get_image_by_idx(i).transpose([2,1,0])\n",
        "# label = get_label_by_idx(i).transpose([2,1,0])\n",
        "# pred = get_pred_by_idx(i).transpose([2,1,0])\n",
        "# pred = np.flip(pred,(1,2))"
      ]
    },
    {
      "cell_type": "code",
      "source": [
        "# cropper = CropForeground(margin = [2,10,10], channel_indices = 2)\n",
        "# stacked = np.stack([label, image, pred])\n",
        "# cropped = cropper(stacked)"
      ],
      "metadata": {
        "id": "ycN_9jbUAG79"
      },
      "execution_count": null,
      "outputs": []
    },
    {
      "cell_type": "code",
      "execution_count": null,
      "metadata": {
        "id": "JyDKPc88Z8Tu"
      },
      "outputs": [],
      "source": [
        "# plot_img_label_pred((adjust_window(image,(700,200))*255).astype(np.uint8), label.astype(np.uint8), pred.astype(np.uint8), show_only_positive = True, interval =5)"
      ]
    },
    {
      "cell_type": "code",
      "source": [],
      "metadata": {
        "id": "8NzhFuvf_7lf"
      },
      "execution_count": null,
      "outputs": []
    },
    {
      "cell_type": "code",
      "execution_count": 10,
      "metadata": {
        "id": "iX1X0CtsZ0iC"
      },
      "outputs": [],
      "source": [
        "os.makedirs(image_crop_dir, exist_ok=True)\n",
        "os.makedirs(label_crop_dir, exist_ok=True)\n",
        "\n",
        "for i in range(51):\n",
        "  cropper = CropForeground(margin = [2,10,10], channel_indices = 2)\n",
        "  image = get_image_by_idx(i).transpose([2,1,0])\n",
        "  label = get_label_by_idx(i).transpose([2,1,0])\n",
        "  pred = get_pred_by_idx(i).transpose([2,1,0])\n",
        "  pred = np.flip(pred,(1,2))\n",
        "\n",
        "  stacked = np.stack([label, image, pred])\n",
        "  cropped = cropper(stacked)\n",
        "  label_crop = cropped[0]\n",
        "  image_crop = cropped[1]\n",
        "  pred_crop = cropped[2]\n",
        "    # plot_img_label_pred((adjust_window(image_crop,(700,200))*255).astype(np.uint8), label_crop.astype(np.uint8), pred_crop.astype(np.uint8), show_only_positive = True, interval =4)\n",
        "\n",
        "  image_crop_path = os.path.join(image_crop_dir, f'volume-{i}')\n",
        "  label_crop_path = os.path.join(label_crop_dir, f'volume-{i}')\n",
        "  np.save(image_crop_path, image_crop.astype(np.uint16))\n",
        "  np.save(label_crop_path, label_crop.astype(np.uint8))"
      ]
    },
    {
      "cell_type": "code",
      "source": [],
      "metadata": {
        "id": "1EymyK-I8xlE"
      },
      "execution_count": null,
      "outputs": []
    }
  ],
  "metadata": {
    "colab": {
      "provenance": [],
      "machine_shape": "hm",
      "authorship_tag": "ABX9TyNL30eW1oLW96j0uTP9oP+m",
      "include_colab_link": true
    },
    "kernelspec": {
      "display_name": "Python 3",
      "name": "python3"
    },
    "language_info": {
      "name": "python"
    },
    "gpuClass": "standard",
    "accelerator": "TPU"
  },
  "nbformat": 4,
  "nbformat_minor": 0
}